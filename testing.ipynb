{
 "cells": [
  {
   "cell_type": "code",
   "execution_count": null,
   "metadata": {
    "collapsed": true
   },
   "outputs": [],
   "source": []
  },
  {
   "cell_type": "code",
   "execution_count": 153,
   "metadata": {
    "collapsed": true
   },
   "outputs": [],
   "source": [
    "import numpy as np\n",
    "from bokeh.plotting import figure, show\n",
    "from bokeh.io import output_notebook, push_notebook\n",
    "from bokeh.models import ColumnDataSource"
   ]
  },
  {
   "cell_type": "code",
   "execution_count": 154,
   "metadata": {
    "collapsed": false
   },
   "outputs": [
    {
     "data": {
      "text/html": [
       "\n",
       "    <div class=\"bk-root\">\n",
       "        <a href=\"http://bokeh.pydata.org\" target=\"_blank\" class=\"bk-logo bk-logo-small bk-logo-notebook\"></a>\n",
       "        <span id=\"216af88d-08ef-46e0-b48a-9d1fe253c35c\">Loading BokehJS ...</span>\n",
       "    </div>"
      ]
     },
     "metadata": {},
     "output_type": "display_data"
    },
    {
     "data": {
      "application/javascript": [
       "\n",
       "(function(global) {\n",
       "  function now() {\n",
       "    return new Date();\n",
       "  }\n",
       "\n",
       "  var force = true;\n",
       "\n",
       "  if (typeof (window._bokeh_onload_callbacks) === \"undefined\" || force === true) {\n",
       "    window._bokeh_onload_callbacks = [];\n",
       "    window._bokeh_is_loading = undefined;\n",
       "  }\n",
       "\n",
       "\n",
       "  \n",
       "  if (typeof (window._bokeh_timeout) === \"undefined\" || force === true) {\n",
       "    window._bokeh_timeout = Date.now() + 5000;\n",
       "    window._bokeh_failed_load = false;\n",
       "  }\n",
       "\n",
       "  var NB_LOAD_WARNING = {'data': {'text/html':\n",
       "     \"<div style='background-color: #fdd'>\\n\"+\n",
       "     \"<p>\\n\"+\n",
       "     \"BokehJS does not appear to have successfully loaded. If loading BokehJS from CDN, this \\n\"+\n",
       "     \"may be due to a slow or bad network connection. Possible fixes:\\n\"+\n",
       "     \"</p>\\n\"+\n",
       "     \"<ul>\\n\"+\n",
       "     \"<li>re-rerun `output_notebook()` to attempt to load from CDN again, or</li>\\n\"+\n",
       "     \"<li>use INLINE resources instead, as so:</li>\\n\"+\n",
       "     \"</ul>\\n\"+\n",
       "     \"<code>\\n\"+\n",
       "     \"from bokeh.resources import INLINE\\n\"+\n",
       "     \"output_notebook(resources=INLINE)\\n\"+\n",
       "     \"</code>\\n\"+\n",
       "     \"</div>\"}};\n",
       "\n",
       "  function display_loaded() {\n",
       "    if (window.Bokeh !== undefined) {\n",
       "      var el = document.getElementById(\"216af88d-08ef-46e0-b48a-9d1fe253c35c\");\n",
       "      el.textContent = \"BokehJS \" + Bokeh.version + \" successfully loaded.\";\n",
       "    } else if (Date.now() < window._bokeh_timeout) {\n",
       "      setTimeout(display_loaded, 100)\n",
       "    }\n",
       "  }\n",
       "\n",
       "  function run_callbacks() {\n",
       "    try {\n",
       "      window._bokeh_onload_callbacks.forEach(function(callback) { callback() });\n",
       "    }\n",
       "    finally {\n",
       "      delete window._bokeh_onload_callbacks\n",
       "    }\n",
       "    console.info(\"Bokeh: all callbacks have finished\");\n",
       "  }\n",
       "\n",
       "  function load_libs(js_urls, callback) {\n",
       "    window._bokeh_onload_callbacks.push(callback);\n",
       "    if (window._bokeh_is_loading > 0) {\n",
       "      console.log(\"Bokeh: BokehJS is being loaded, scheduling callback at\", now());\n",
       "      return null;\n",
       "    }\n",
       "    if (js_urls == null || js_urls.length === 0) {\n",
       "      run_callbacks();\n",
       "      return null;\n",
       "    }\n",
       "    console.log(\"Bokeh: BokehJS not loaded, scheduling load and callback at\", now());\n",
       "    window._bokeh_is_loading = js_urls.length;\n",
       "    for (var i = 0; i < js_urls.length; i++) {\n",
       "      var url = js_urls[i];\n",
       "      var s = document.createElement('script');\n",
       "      s.src = url;\n",
       "      s.async = false;\n",
       "      s.onreadystatechange = s.onload = function() {\n",
       "        window._bokeh_is_loading--;\n",
       "        if (window._bokeh_is_loading === 0) {\n",
       "          console.log(\"Bokeh: all BokehJS libraries loaded\");\n",
       "          run_callbacks()\n",
       "        }\n",
       "      };\n",
       "      s.onerror = function() {\n",
       "        console.warn(\"failed to load library \" + url);\n",
       "      };\n",
       "      console.log(\"Bokeh: injecting script tag for BokehJS library: \", url);\n",
       "      document.getElementsByTagName(\"head\")[0].appendChild(s);\n",
       "    }\n",
       "  };var element = document.getElementById(\"216af88d-08ef-46e0-b48a-9d1fe253c35c\");\n",
       "  if (element == null) {\n",
       "    console.log(\"Bokeh: ERROR: autoload.js configured with elementid '216af88d-08ef-46e0-b48a-9d1fe253c35c' but no matching script tag was found. \")\n",
       "    return false;\n",
       "  }\n",
       "\n",
       "  var js_urls = [\"https://cdn.pydata.org/bokeh/release/bokeh-0.12.6.min.js\", \"https://cdn.pydata.org/bokeh/release/bokeh-widgets-0.12.6.min.js\"];\n",
       "\n",
       "  var inline_js = [\n",
       "    function(Bokeh) {\n",
       "      Bokeh.set_log_level(\"info\");\n",
       "    },\n",
       "    \n",
       "    function(Bokeh) {\n",
       "      \n",
       "    },\n",
       "    \n",
       "    function(Bokeh) {\n",
       "      \n",
       "      document.getElementById(\"216af88d-08ef-46e0-b48a-9d1fe253c35c\").textContent = \"BokehJS is loading...\";\n",
       "    },\n",
       "    function(Bokeh) {\n",
       "      console.log(\"Bokeh: injecting CSS: https://cdn.pydata.org/bokeh/release/bokeh-0.12.6.min.css\");\n",
       "      Bokeh.embed.inject_css(\"https://cdn.pydata.org/bokeh/release/bokeh-0.12.6.min.css\");\n",
       "      console.log(\"Bokeh: injecting CSS: https://cdn.pydata.org/bokeh/release/bokeh-widgets-0.12.6.min.css\");\n",
       "      Bokeh.embed.inject_css(\"https://cdn.pydata.org/bokeh/release/bokeh-widgets-0.12.6.min.css\");\n",
       "    }\n",
       "  ];\n",
       "\n",
       "  function run_inline_js() {\n",
       "    \n",
       "    if ((window.Bokeh !== undefined) || (force === true)) {\n",
       "      for (var i = 0; i < inline_js.length; i++) {\n",
       "        inline_js[i](window.Bokeh);\n",
       "      }if (force === true) {\n",
       "        display_loaded();\n",
       "      }} else if (Date.now() < window._bokeh_timeout) {\n",
       "      setTimeout(run_inline_js, 100);\n",
       "    } else if (!window._bokeh_failed_load) {\n",
       "      console.log(\"Bokeh: BokehJS failed to load within specified timeout.\");\n",
       "      window._bokeh_failed_load = true;\n",
       "    } else if (force !== true) {\n",
       "      var cell = $(document.getElementById(\"216af88d-08ef-46e0-b48a-9d1fe253c35c\")).parents('.cell').data().cell;\n",
       "      cell.output_area.append_execute_result(NB_LOAD_WARNING)\n",
       "    }\n",
       "\n",
       "  }\n",
       "\n",
       "  if (window._bokeh_is_loading === 0) {\n",
       "    console.log(\"Bokeh: BokehJS loaded, going straight to plotting\");\n",
       "    run_inline_js();\n",
       "  } else {\n",
       "    load_libs(js_urls, function() {\n",
       "      console.log(\"Bokeh: BokehJS plotting callback run at\", now());\n",
       "      run_inline_js();\n",
       "    });\n",
       "  }\n",
       "}(this));"
      ]
     },
     "metadata": {},
     "output_type": "display_data"
    }
   ],
   "source": [
    "output_notebook()"
   ]
  },
  {
   "cell_type": "code",
   "execution_count": 155,
   "metadata": {
    "collapsed": true
   },
   "outputs": [],
   "source": [
    "N=400"
   ]
  },
  {
   "cell_type": "code",
   "execution_count": 156,
   "metadata": {
    "collapsed": true
   },
   "outputs": [],
   "source": [
    "x=np.random.random(size=N) * 100\n",
    "y=np.random.random(size=N)*100\n",
    "#radii=np.random.random(size=N)*1.5\n",
    "colors = [\"#%02x%02x%02x\" % (r,g,150) for r, g in zip(np.floor(50+2*x), np.floor(30+2*y))]"
   ]
  },
  {
   "cell_type": "code",
   "execution_count": null,
   "metadata": {
    "collapsed": false
   },
   "outputs": [],
   "source": []
  },
  {
   "cell_type": "code",
   "execution_count": 157,
   "metadata": {
    "collapsed": false
   },
   "outputs": [],
   "source": [
    "source = ColumnDataSource(data=dict(x=x,y=y))\n",
    "\n"
   ]
  },
  {
   "cell_type": "code",
   "execution_count": 158,
   "metadata": {
    "collapsed": false
   },
   "outputs": [
    {
     "data": {
      "text/html": [
       "<div style=\"display: table;\"><div style=\"display: table-row;\"><div style=\"display: table-cell;\"><b title=\"bokeh.models.renderers.GlyphRenderer\">GlyphRenderer</b>(</div><div style=\"display: table-cell;\">id&nbsp;=&nbsp;'7dbd2fe7-0b8c-4191-8983-fc9363c32ddc', <span id=\"30e72d9e-d401-4e2b-a4c7-6f574d97c90a\" style=\"cursor: pointer;\">&hellip;)</span></div></div><div class=\"0636b89c-7dae-44d3-85d1-c5b5df4447ef\" style=\"display: none;\"><div style=\"display: table-cell;\"></div><div style=\"display: table-cell;\">data_source&nbsp;=&nbsp;ColumnDataSource(id='40f681e6-52dd-4ac9-8c03-412ba8e1db4d', ...),</div></div><div class=\"0636b89c-7dae-44d3-85d1-c5b5df4447ef\" style=\"display: none;\"><div style=\"display: table-cell;\"></div><div style=\"display: table-cell;\">glyph&nbsp;=&nbsp;Circle(id='375557c5-852b-4579-b9b8-16856f4965df', ...),</div></div><div class=\"0636b89c-7dae-44d3-85d1-c5b5df4447ef\" style=\"display: none;\"><div style=\"display: table-cell;\"></div><div style=\"display: table-cell;\">hover_glyph&nbsp;=&nbsp;None,</div></div><div class=\"0636b89c-7dae-44d3-85d1-c5b5df4447ef\" style=\"display: none;\"><div style=\"display: table-cell;\"></div><div style=\"display: table-cell;\">js_event_callbacks&nbsp;=&nbsp;{},</div></div><div class=\"0636b89c-7dae-44d3-85d1-c5b5df4447ef\" style=\"display: none;\"><div style=\"display: table-cell;\"></div><div style=\"display: table-cell;\">js_property_callbacks&nbsp;=&nbsp;{},</div></div><div class=\"0636b89c-7dae-44d3-85d1-c5b5df4447ef\" style=\"display: none;\"><div style=\"display: table-cell;\"></div><div style=\"display: table-cell;\">level&nbsp;=&nbsp;'glyph',</div></div><div class=\"0636b89c-7dae-44d3-85d1-c5b5df4447ef\" style=\"display: none;\"><div style=\"display: table-cell;\"></div><div style=\"display: table-cell;\">muted&nbsp;=&nbsp;False,</div></div><div class=\"0636b89c-7dae-44d3-85d1-c5b5df4447ef\" style=\"display: none;\"><div style=\"display: table-cell;\"></div><div style=\"display: table-cell;\">muted_glyph&nbsp;=&nbsp;None,</div></div><div class=\"0636b89c-7dae-44d3-85d1-c5b5df4447ef\" style=\"display: none;\"><div style=\"display: table-cell;\"></div><div style=\"display: table-cell;\">name&nbsp;=&nbsp;None,</div></div><div class=\"0636b89c-7dae-44d3-85d1-c5b5df4447ef\" style=\"display: none;\"><div style=\"display: table-cell;\"></div><div style=\"display: table-cell;\">nonselection_glyph&nbsp;=&nbsp;Circle(id='741bb0d9-22d3-4543-b110-be1fabd38944', ...),</div></div><div class=\"0636b89c-7dae-44d3-85d1-c5b5df4447ef\" style=\"display: none;\"><div style=\"display: table-cell;\"></div><div style=\"display: table-cell;\">selection_glyph&nbsp;=&nbsp;None,</div></div><div class=\"0636b89c-7dae-44d3-85d1-c5b5df4447ef\" style=\"display: none;\"><div style=\"display: table-cell;\"></div><div style=\"display: table-cell;\">subscribed_events&nbsp;=&nbsp;[],</div></div><div class=\"0636b89c-7dae-44d3-85d1-c5b5df4447ef\" style=\"display: none;\"><div style=\"display: table-cell;\"></div><div style=\"display: table-cell;\">tags&nbsp;=&nbsp;[],</div></div><div class=\"0636b89c-7dae-44d3-85d1-c5b5df4447ef\" style=\"display: none;\"><div style=\"display: table-cell;\"></div><div style=\"display: table-cell;\">visible&nbsp;=&nbsp;True,</div></div><div class=\"0636b89c-7dae-44d3-85d1-c5b5df4447ef\" style=\"display: none;\"><div style=\"display: table-cell;\"></div><div style=\"display: table-cell;\">x_range_name&nbsp;=&nbsp;'default',</div></div><div class=\"0636b89c-7dae-44d3-85d1-c5b5df4447ef\" style=\"display: none;\"><div style=\"display: table-cell;\"></div><div style=\"display: table-cell;\">y_range_name&nbsp;=&nbsp;'default')</div></div></div>\n",
       "<script>\n",
       "(function() {\n",
       "  var expanded = false;\n",
       "  var ellipsis = document.getElementById(\"30e72d9e-d401-4e2b-a4c7-6f574d97c90a\");\n",
       "  ellipsis.addEventListener(\"click\", function() {\n",
       "    var rows = document.getElementsByClassName(\"0636b89c-7dae-44d3-85d1-c5b5df4447ef\");\n",
       "    for (var i = 0; i < rows.length; i++) {\n",
       "      var el = rows[i];\n",
       "      el.style.display = expanded ? \"none\" : \"table-row\";\n",
       "    }\n",
       "    ellipsis.innerHTML = expanded ? \"&hellip;)\" : \"&lsaquo;&lsaquo;&lsaquo;\";\n",
       "    expanded = !expanded;\n",
       "  });\n",
       "})();\n",
       "</script>\n"
      ],
      "text/plain": [
       "GlyphRenderer(id='7dbd2fe7-0b8c-4191-8983-fc9363c32ddc', ...)"
      ]
     },
     "execution_count": 158,
     "metadata": {},
     "output_type": "execute_result"
    }
   ],
   "source": [
    "p=figure(title = \"plot\", plot_width=300, plot_height=300)\n",
    "p.circle('x', 'y', source=source)"
   ]
  },
  {
   "cell_type": "code",
   "execution_count": 159,
   "metadata": {
    "collapsed": false
   },
   "outputs": [],
   "source": [
    "def update(N=400):\n",
    "    source.data['y']=np.random.random(size=N)*100\n",
    "    source.data['x']=np.random.random(size=N)*100\n",
    "    push_notebook()"
   ]
  },
  {
   "cell_type": "code",
   "execution_count": 160,
   "metadata": {
    "collapsed": false
   },
   "outputs": [
    {
     "data": {
      "text/html": [
       "\n",
       "\n",
       "    <div class=\"bk-root\">\n",
       "        <div class=\"bk-plotdiv\" id=\"aa07689b-ac11-48e8-b130-3b17b247d62e\"></div>\n",
       "    </div>\n",
       "<script type=\"text/javascript\">\n",
       "  \n",
       "  (function(global) {\n",
       "    function now() {\n",
       "      return new Date();\n",
       "    }\n",
       "  \n",
       "    var force = false;\n",
       "  \n",
       "    if (typeof (window._bokeh_onload_callbacks) === \"undefined\" || force === true) {\n",
       "      window._bokeh_onload_callbacks = [];\n",
       "      window._bokeh_is_loading = undefined;\n",
       "    }\n",
       "  \n",
       "  \n",
       "    \n",
       "    if (typeof (window._bokeh_timeout) === \"undefined\" || force === true) {\n",
       "      window._bokeh_timeout = Date.now() + 0;\n",
       "      window._bokeh_failed_load = false;\n",
       "    }\n",
       "  \n",
       "    var NB_LOAD_WARNING = {'data': {'text/html':\n",
       "       \"<div style='background-color: #fdd'>\\n\"+\n",
       "       \"<p>\\n\"+\n",
       "       \"BokehJS does not appear to have successfully loaded. If loading BokehJS from CDN, this \\n\"+\n",
       "       \"may be due to a slow or bad network connection. Possible fixes:\\n\"+\n",
       "       \"</p>\\n\"+\n",
       "       \"<ul>\\n\"+\n",
       "       \"<li>re-rerun `output_notebook()` to attempt to load from CDN again, or</li>\\n\"+\n",
       "       \"<li>use INLINE resources instead, as so:</li>\\n\"+\n",
       "       \"</ul>\\n\"+\n",
       "       \"<code>\\n\"+\n",
       "       \"from bokeh.resources import INLINE\\n\"+\n",
       "       \"output_notebook(resources=INLINE)\\n\"+\n",
       "       \"</code>\\n\"+\n",
       "       \"</div>\"}};\n",
       "  \n",
       "    function display_loaded() {\n",
       "      if (window.Bokeh !== undefined) {\n",
       "        var el = document.getElementById(\"aa07689b-ac11-48e8-b130-3b17b247d62e\");\n",
       "        el.textContent = \"BokehJS \" + Bokeh.version + \" successfully loaded.\";\n",
       "      } else if (Date.now() < window._bokeh_timeout) {\n",
       "        setTimeout(display_loaded, 100)\n",
       "      }\n",
       "    }if ((window.Jupyter !== undefined) && Jupyter.notebook.kernel) {\n",
       "      comm_manager = Jupyter.notebook.kernel.comm_manager\n",
       "      comm_manager.register_target(\"dacd37af-e43b-40e6-b249-cc1a5135705e\", function () {});\n",
       "    }\n",
       "  \n",
       "    function run_callbacks() {\n",
       "      try {\n",
       "        window._bokeh_onload_callbacks.forEach(function(callback) { callback() });\n",
       "      }\n",
       "      finally {\n",
       "        delete window._bokeh_onload_callbacks\n",
       "      }\n",
       "      console.info(\"Bokeh: all callbacks have finished\");\n",
       "    }\n",
       "  \n",
       "    function load_libs(js_urls, callback) {\n",
       "      window._bokeh_onload_callbacks.push(callback);\n",
       "      if (window._bokeh_is_loading > 0) {\n",
       "        console.log(\"Bokeh: BokehJS is being loaded, scheduling callback at\", now());\n",
       "        return null;\n",
       "      }\n",
       "      if (js_urls == null || js_urls.length === 0) {\n",
       "        run_callbacks();\n",
       "        return null;\n",
       "      }\n",
       "      console.log(\"Bokeh: BokehJS not loaded, scheduling load and callback at\", now());\n",
       "      window._bokeh_is_loading = js_urls.length;\n",
       "      for (var i = 0; i < js_urls.length; i++) {\n",
       "        var url = js_urls[i];\n",
       "        var s = document.createElement('script');\n",
       "        s.src = url;\n",
       "        s.async = false;\n",
       "        s.onreadystatechange = s.onload = function() {\n",
       "          window._bokeh_is_loading--;\n",
       "          if (window._bokeh_is_loading === 0) {\n",
       "            console.log(\"Bokeh: all BokehJS libraries loaded\");\n",
       "            run_callbacks()\n",
       "          }\n",
       "        };\n",
       "        s.onerror = function() {\n",
       "          console.warn(\"failed to load library \" + url);\n",
       "        };\n",
       "        console.log(\"Bokeh: injecting script tag for BokehJS library: \", url);\n",
       "        document.getElementsByTagName(\"head\")[0].appendChild(s);\n",
       "      }\n",
       "    };var element = document.getElementById(\"aa07689b-ac11-48e8-b130-3b17b247d62e\");\n",
       "    if (element == null) {\n",
       "      console.log(\"Bokeh: ERROR: autoload.js configured with elementid 'aa07689b-ac11-48e8-b130-3b17b247d62e' but no matching script tag was found. \")\n",
       "      return false;\n",
       "    }\n",
       "  \n",
       "    var js_urls = [];\n",
       "  \n",
       "    var inline_js = [\n",
       "      function(Bokeh) {\n",
       "        (function() {\n",
       "          var fn = function() {\n",
       "            var docs_json = {\"d5c26cd7-c155-4e23-938a-438b38ffcab0\":{\"roots\":{\"references\":[{\"attributes\":{},\"id\":\"4471598f-a943-4d28-841a-651c966fd4a9\",\"type\":\"BasicTickFormatter\"},{\"attributes\":{},\"id\":\"871118d4-b0c5-49f0-b156-fa58e71acff5\",\"type\":\"ToolEvents\"},{\"attributes\":{\"fill_color\":{\"value\":\"#1f77b4\"},\"line_color\":{\"value\":\"#1f77b4\"},\"x\":{\"field\":\"x\"},\"y\":{\"field\":\"y\"}},\"id\":\"375557c5-852b-4579-b9b8-16856f4965df\",\"type\":\"Circle\"},{\"attributes\":{\"plot\":{\"id\":\"38b5ca88-6d91-4a6b-983e-a4c5681f7771\",\"subtype\":\"Figure\",\"type\":\"Plot\"}},\"id\":\"a52aa522-344d-41ec-806b-6421edbdf4e1\",\"type\":\"SaveTool\"},{\"attributes\":{\"overlay\":{\"id\":\"5948a62e-09e5-4ccb-bcc9-f7bc7f2c234f\",\"type\":\"BoxAnnotation\"},\"plot\":{\"id\":\"38b5ca88-6d91-4a6b-983e-a4c5681f7771\",\"subtype\":\"Figure\",\"type\":\"Plot\"}},\"id\":\"07fae1ff-d22e-4396-8e16-d249421f462c\",\"type\":\"BoxZoomTool\"},{\"attributes\":{\"fill_alpha\":{\"value\":0.1},\"fill_color\":{\"value\":\"#1f77b4\"},\"line_alpha\":{\"value\":0.1},\"line_color\":{\"value\":\"#1f77b4\"},\"x\":{\"field\":\"x\"},\"y\":{\"field\":\"y\"}},\"id\":\"741bb0d9-22d3-4543-b110-be1fabd38944\",\"type\":\"Circle\"},{\"attributes\":{\"plot\":{\"id\":\"38b5ca88-6d91-4a6b-983e-a4c5681f7771\",\"subtype\":\"Figure\",\"type\":\"Plot\"}},\"id\":\"5d9a0251-d81d-4d5d-80a5-bbfa52594967\",\"type\":\"HelpTool\"},{\"attributes\":{\"plot\":{\"id\":\"38b5ca88-6d91-4a6b-983e-a4c5681f7771\",\"subtype\":\"Figure\",\"type\":\"Plot\"}},\"id\":\"4ae5e887-fa66-4c92-9723-716e42e98b27\",\"type\":\"PanTool\"},{\"attributes\":{\"callback\":null},\"id\":\"c0e97428-9c25-4698-95fd-1920bd3ee68a\",\"type\":\"DataRange1d\"},{\"attributes\":{},\"id\":\"9901af86-1112-46b1-aef5-af3d12e422b3\",\"type\":\"BasicTicker\"},{\"attributes\":{},\"id\":\"f3796e72-2e1b-4fa7-b2bc-7f044d3fd26b\",\"type\":\"BasicTickFormatter\"},{\"attributes\":{\"plot\":{\"id\":\"38b5ca88-6d91-4a6b-983e-a4c5681f7771\",\"subtype\":\"Figure\",\"type\":\"Plot\"},\"ticker\":{\"id\":\"9901af86-1112-46b1-aef5-af3d12e422b3\",\"type\":\"BasicTicker\"}},\"id\":\"3fa53bc1-122d-4b13-ad9b-c75474ab42e9\",\"type\":\"Grid\"},{\"attributes\":{\"plot\":{\"id\":\"38b5ca88-6d91-4a6b-983e-a4c5681f7771\",\"subtype\":\"Figure\",\"type\":\"Plot\"}},\"id\":\"2ae614e7-c359-47a2-a92d-ccba96ac3567\",\"type\":\"WheelZoomTool\"},{\"attributes\":{\"callback\":null,\"column_names\":[\"y\",\"x\"],\"data\":{\"x\":{\"__ndarray__\":\"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\",\"dtype\":\"float64\",\"shape\":[400]},\"y\":{\"__ndarray__\":\"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\",\"dtype\":\"float64\",\"shape\":[400]}}},\"id\":\"40f681e6-52dd-4ac9-8c03-412ba8e1db4d\",\"type\":\"ColumnDataSource\"},{\"attributes\":{\"formatter\":{\"id\":\"f3796e72-2e1b-4fa7-b2bc-7f044d3fd26b\",\"type\":\"BasicTickFormatter\"},\"plot\":{\"id\":\"38b5ca88-6d91-4a6b-983e-a4c5681f7771\",\"subtype\":\"Figure\",\"type\":\"Plot\"},\"ticker\":{\"id\":\"a81d7da1-f503-4827-8221-aad523518683\",\"type\":\"BasicTicker\"}},\"id\":\"873ffd01-57e5-4dcf-ac23-c0a2a6ec4a58\",\"type\":\"LinearAxis\"},{\"attributes\":{},\"id\":\"73124c2b-c14b-41ed-8ac4-248b05799b72\",\"type\":\"LinearScale\"},{\"attributes\":{\"dimension\":1,\"plot\":{\"id\":\"38b5ca88-6d91-4a6b-983e-a4c5681f7771\",\"subtype\":\"Figure\",\"type\":\"Plot\"},\"ticker\":{\"id\":\"a81d7da1-f503-4827-8221-aad523518683\",\"type\":\"BasicTicker\"}},\"id\":\"512b9fee-d91f-4415-b42b-33ee7b95c792\",\"type\":\"Grid\"},{\"attributes\":{},\"id\":\"dceaff4e-ae9b-4006-a52e-b3aeb9c2c0b5\",\"type\":\"LinearScale\"},{\"attributes\":{\"plot\":{\"id\":\"38b5ca88-6d91-4a6b-983e-a4c5681f7771\",\"subtype\":\"Figure\",\"type\":\"Plot\"}},\"id\":\"ebf8763e-3aae-4c21-a32f-5125f99e3e3a\",\"type\":\"ResetTool\"},{\"attributes\":{\"below\":[{\"id\":\"42a10a9b-6d53-49bd-afe7-f0d025651a5a\",\"type\":\"LinearAxis\"}],\"left\":[{\"id\":\"873ffd01-57e5-4dcf-ac23-c0a2a6ec4a58\",\"type\":\"LinearAxis\"}],\"plot_height\":300,\"plot_width\":300,\"renderers\":[{\"id\":\"42a10a9b-6d53-49bd-afe7-f0d025651a5a\",\"type\":\"LinearAxis\"},{\"id\":\"3fa53bc1-122d-4b13-ad9b-c75474ab42e9\",\"type\":\"Grid\"},{\"id\":\"873ffd01-57e5-4dcf-ac23-c0a2a6ec4a58\",\"type\":\"LinearAxis\"},{\"id\":\"512b9fee-d91f-4415-b42b-33ee7b95c792\",\"type\":\"Grid\"},{\"id\":\"5948a62e-09e5-4ccb-bcc9-f7bc7f2c234f\",\"type\":\"BoxAnnotation\"},{\"id\":\"7dbd2fe7-0b8c-4191-8983-fc9363c32ddc\",\"type\":\"GlyphRenderer\"}],\"title\":{\"id\":\"ded15f7b-adfb-4e76-a875-afe281c45ea7\",\"type\":\"Title\"},\"tool_events\":{\"id\":\"871118d4-b0c5-49f0-b156-fa58e71acff5\",\"type\":\"ToolEvents\"},\"toolbar\":{\"id\":\"05d1a267-e48c-4ad3-8dd7-7dabd1a54c76\",\"type\":\"Toolbar\"},\"x_range\":{\"id\":\"59c17691-8845-4f32-b577-9fee20749110\",\"type\":\"DataRange1d\"},\"x_scale\":{\"id\":\"dceaff4e-ae9b-4006-a52e-b3aeb9c2c0b5\",\"type\":\"LinearScale\"},\"y_range\":{\"id\":\"c0e97428-9c25-4698-95fd-1920bd3ee68a\",\"type\":\"DataRange1d\"},\"y_scale\":{\"id\":\"73124c2b-c14b-41ed-8ac4-248b05799b72\",\"type\":\"LinearScale\"}},\"id\":\"38b5ca88-6d91-4a6b-983e-a4c5681f7771\",\"subtype\":\"Figure\",\"type\":\"Plot\"},{\"attributes\":{\"bottom_units\":\"screen\",\"fill_alpha\":{\"value\":0.5},\"fill_color\":{\"value\":\"lightgrey\"},\"left_units\":\"screen\",\"level\":\"overlay\",\"line_alpha\":{\"value\":1.0},\"line_color\":{\"value\":\"black\"},\"line_dash\":[4,4],\"line_width\":{\"value\":2},\"plot\":null,\"render_mode\":\"css\",\"right_units\":\"screen\",\"top_units\":\"screen\"},\"id\":\"5948a62e-09e5-4ccb-bcc9-f7bc7f2c234f\",\"type\":\"BoxAnnotation\"},{\"attributes\":{\"active_drag\":\"auto\",\"active_inspect\":\"auto\",\"active_scroll\":\"auto\",\"active_tap\":\"auto\",\"tools\":[{\"id\":\"4ae5e887-fa66-4c92-9723-716e42e98b27\",\"type\":\"PanTool\"},{\"id\":\"2ae614e7-c359-47a2-a92d-ccba96ac3567\",\"type\":\"WheelZoomTool\"},{\"id\":\"07fae1ff-d22e-4396-8e16-d249421f462c\",\"type\":\"BoxZoomTool\"},{\"id\":\"a52aa522-344d-41ec-806b-6421edbdf4e1\",\"type\":\"SaveTool\"},{\"id\":\"ebf8763e-3aae-4c21-a32f-5125f99e3e3a\",\"type\":\"ResetTool\"},{\"id\":\"5d9a0251-d81d-4d5d-80a5-bbfa52594967\",\"type\":\"HelpTool\"}]},\"id\":\"05d1a267-e48c-4ad3-8dd7-7dabd1a54c76\",\"type\":\"Toolbar\"},{\"attributes\":{\"formatter\":{\"id\":\"4471598f-a943-4d28-841a-651c966fd4a9\",\"type\":\"BasicTickFormatter\"},\"plot\":{\"id\":\"38b5ca88-6d91-4a6b-983e-a4c5681f7771\",\"subtype\":\"Figure\",\"type\":\"Plot\"},\"ticker\":{\"id\":\"9901af86-1112-46b1-aef5-af3d12e422b3\",\"type\":\"BasicTicker\"}},\"id\":\"42a10a9b-6d53-49bd-afe7-f0d025651a5a\",\"type\":\"LinearAxis\"},{\"attributes\":{\"plot\":null,\"text\":\"plot\"},\"id\":\"ded15f7b-adfb-4e76-a875-afe281c45ea7\",\"type\":\"Title\"},{\"attributes\":{},\"id\":\"a81d7da1-f503-4827-8221-aad523518683\",\"type\":\"BasicTicker\"},{\"attributes\":{\"data_source\":{\"id\":\"40f681e6-52dd-4ac9-8c03-412ba8e1db4d\",\"type\":\"ColumnDataSource\"},\"glyph\":{\"id\":\"375557c5-852b-4579-b9b8-16856f4965df\",\"type\":\"Circle\"},\"hover_glyph\":null,\"muted_glyph\":null,\"nonselection_glyph\":{\"id\":\"741bb0d9-22d3-4543-b110-be1fabd38944\",\"type\":\"Circle\"},\"selection_glyph\":null},\"id\":\"7dbd2fe7-0b8c-4191-8983-fc9363c32ddc\",\"type\":\"GlyphRenderer\"},{\"attributes\":{\"callback\":null},\"id\":\"59c17691-8845-4f32-b577-9fee20749110\",\"type\":\"DataRange1d\"}],\"root_ids\":[\"38b5ca88-6d91-4a6b-983e-a4c5681f7771\"]},\"title\":\"Bokeh Application\",\"version\":\"0.12.6\"}};\n",
       "            var render_items = [{\"docid\":\"d5c26cd7-c155-4e23-938a-438b38ffcab0\",\"elementid\":\"aa07689b-ac11-48e8-b130-3b17b247d62e\",\"modelid\":\"38b5ca88-6d91-4a6b-983e-a4c5681f7771\",\"notebook_comms_target\":\"dacd37af-e43b-40e6-b249-cc1a5135705e\"}];\n",
       "            \n",
       "            Bokeh.embed.embed_items(docs_json, render_items);\n",
       "          };\n",
       "          if (document.readyState != \"loading\") fn();\n",
       "          else document.addEventListener(\"DOMContentLoaded\", fn);\n",
       "        })();\n",
       "      },\n",
       "      function(Bokeh) {\n",
       "      }\n",
       "    ];\n",
       "  \n",
       "    function run_inline_js() {\n",
       "      \n",
       "      if ((window.Bokeh !== undefined) || (force === true)) {\n",
       "        for (var i = 0; i < inline_js.length; i++) {\n",
       "          inline_js[i](window.Bokeh);\n",
       "        }if (force === true) {\n",
       "          display_loaded();\n",
       "        }} else if (Date.now() < window._bokeh_timeout) {\n",
       "        setTimeout(run_inline_js, 100);\n",
       "      } else if (!window._bokeh_failed_load) {\n",
       "        console.log(\"Bokeh: BokehJS failed to load within specified timeout.\");\n",
       "        window._bokeh_failed_load = true;\n",
       "      } else if (force !== true) {\n",
       "        var cell = $(document.getElementById(\"aa07689b-ac11-48e8-b130-3b17b247d62e\")).parents('.cell').data().cell;\n",
       "        cell.output_area.append_execute_result(NB_LOAD_WARNING)\n",
       "      }\n",
       "  \n",
       "    }\n",
       "  \n",
       "    if (window._bokeh_is_loading === 0) {\n",
       "      console.log(\"Bokeh: BokehJS loaded, going straight to plotting\");\n",
       "      run_inline_js();\n",
       "    } else {\n",
       "      load_libs(js_urls, function() {\n",
       "        console.log(\"Bokeh: BokehJS plotting callback run at\", now());\n",
       "        run_inline_js();\n",
       "      });\n",
       "    }\n",
       "  }(this));\n",
       "</script>"
      ]
     },
     "metadata": {},
     "output_type": "display_data"
    },
    {
     "data": {
      "text/html": [
       "<p><code>&lt;Bokeh Notebook handle for <strong>In[160]</strong>&gt;</code></p>"
      ],
      "text/plain": [
       "<bokeh.io._CommsHandle at 0x9b61908>"
      ]
     },
     "execution_count": 160,
     "metadata": {},
     "output_type": "execute_result"
    }
   ],
   "source": [
    "show(p, notebook_handle=True)"
   ]
  },
  {
   "cell_type": "code",
   "execution_count": 161,
   "metadata": {
    "collapsed": false
   },
   "outputs": [
    {
     "name": "stderr",
     "output_type": "stream",
     "text": [
      "C:\\Users\\xandr\\Anaconda2\\lib\\site-packages\\bokeh\\models\\sources.py:91: BokehUserWarning: ColumnDataSource's columns must be of the same length. Current lengths: ('x', 530), ('y', 213)\n",
      "  \"Current lengths: %s\" % \", \".join(sorted(str((k, len(v))) for k, v in data.items())), BokehUserWarning))\n"
     ]
    }
   ],
   "source": [
    "from IPython.html.widgets import interact\n",
    "interact(update, N=(10,1000))"
   ]
  },
  {
   "cell_type": "code",
   "execution_count": null,
   "metadata": {
    "collapsed": true
   },
   "outputs": [],
   "source": []
  },
  {
   "cell_type": "code",
   "execution_count": null,
   "metadata": {
    "collapsed": true
   },
   "outputs": [],
   "source": []
  }
 ],
 "metadata": {
  "kernelspec": {
   "display_name": "Python 2",
   "language": "python",
   "name": "python2"
  },
  "language_info": {
   "codemirror_mode": {
    "name": "ipython",
    "version": 2
   },
   "file_extension": ".py",
   "mimetype": "text/x-python",
   "name": "python",
   "nbconvert_exporter": "python",
   "pygments_lexer": "ipython2",
   "version": "2.7.13"
  },
  "widgets": {
   "state": {
    "4827f7a948d04a0f872f7bb09e80581d": {
     "views": [
      {
       "cell_index": 10
      }
     ]
    }
   },
   "version": "1.2.0"
  }
 },
 "nbformat": 4,
 "nbformat_minor": 2
}
