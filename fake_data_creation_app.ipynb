{
 "cells": [
  {
   "cell_type": "markdown",
   "metadata": {},
   "source": [
    "Created on Tue Jun 27 12:14:08 2017\n",
    "\n",
    "\n",
    "credible Mass (credMass)- this is the proportion of our data which makes up the HDI \"high density interval\" - where most of our data falls, often around 95%\n",
    "ROPE is the Region of practical equivalence.  This is often [-0.1, 0.1] or something near this.\n",
    "We want to know if the HDI (most of our data) fits inside our ROPE. \n"
   ]
  },
  {
   "cell_type": "code",
   "execution_count": 107,
   "metadata": {
    "collapsed": true
   },
   "outputs": [],
   "source": [
    "execfile('C:\\\\Users\\\\xandr\\\\OneDrive\\\\Documents\\\\GitHub\\\\MC_Sim\\\\functionizing_fake_data.py')"
   ]
  },
  {
   "cell_type": "markdown",
   "metadata": {},
   "source": [
    "Set our variables"
   ]
  },
  {
   "cell_type": "code",
   "execution_count": 108,
   "metadata": {
    "collapsed": true
   },
   "outputs": [],
   "source": [
    "credMass=0.95\n",
    "ROPESize=0.5 "
   ]
  },
  {
   "cell_type": "markdown",
   "metadata": {},
   "source": [
    "import packages"
   ]
  },
  {
   "cell_type": "code",
   "execution_count": 109,
   "metadata": {
    "collapsed": true
   },
   "outputs": [],
   "source": [
    "from bokeh.plotting import figure, show, output_file\n",
    "from bokeh.io import output_notebook, push_notebook\n",
    "from bokeh.models import ColumnDataSource, Span\n",
    "import numpy as np\n",
    "from bokeh.charts import Histogram\n",
    "from bokeh.layouts import row, widgetbox"
   ]
  },
  {
   "cell_type": "markdown",
   "metadata": {},
   "source": [
    "initial data"
   ]
  },
  {
   "cell_type": "code",
   "execution_count": 110,
   "metadata": {
    "collapsed": false
   },
   "outputs": [
    {
     "data": {
      "text/html": [
       "\n",
       "    <div class=\"bk-root\">\n",
       "        <a href=\"http://bokeh.pydata.org\" target=\"_blank\" class=\"bk-logo bk-logo-small bk-logo-notebook\"></a>\n",
       "        <span id=\"393c9d2b-83c1-422c-9f12-f823b2991378\">Loading BokehJS ...</span>\n",
       "    </div>"
      ]
     },
     "metadata": {},
     "output_type": "display_data"
    },
    {
     "data": {
      "application/javascript": [
       "\n",
       "(function(global) {\n",
       "  function now() {\n",
       "    return new Date();\n",
       "  }\n",
       "\n",
       "  var force = true;\n",
       "\n",
       "  if (typeof (window._bokeh_onload_callbacks) === \"undefined\" || force === true) {\n",
       "    window._bokeh_onload_callbacks = [];\n",
       "    window._bokeh_is_loading = undefined;\n",
       "  }\n",
       "\n",
       "\n",
       "  \n",
       "  if (typeof (window._bokeh_timeout) === \"undefined\" || force === true) {\n",
       "    window._bokeh_timeout = Date.now() + 5000;\n",
       "    window._bokeh_failed_load = false;\n",
       "  }\n",
       "\n",
       "  var NB_LOAD_WARNING = {'data': {'text/html':\n",
       "     \"<div style='background-color: #fdd'>\\n\"+\n",
       "     \"<p>\\n\"+\n",
       "     \"BokehJS does not appear to have successfully loaded. If loading BokehJS from CDN, this \\n\"+\n",
       "     \"may be due to a slow or bad network connection. Possible fixes:\\n\"+\n",
       "     \"</p>\\n\"+\n",
       "     \"<ul>\\n\"+\n",
       "     \"<li>re-rerun `output_notebook()` to attempt to load from CDN again, or</li>\\n\"+\n",
       "     \"<li>use INLINE resources instead, as so:</li>\\n\"+\n",
       "     \"</ul>\\n\"+\n",
       "     \"<code>\\n\"+\n",
       "     \"from bokeh.resources import INLINE\\n\"+\n",
       "     \"output_notebook(resources=INLINE)\\n\"+\n",
       "     \"</code>\\n\"+\n",
       "     \"</div>\"}};\n",
       "\n",
       "  function display_loaded() {\n",
       "    if (window.Bokeh !== undefined) {\n",
       "      var el = document.getElementById(\"393c9d2b-83c1-422c-9f12-f823b2991378\");\n",
       "      el.textContent = \"BokehJS \" + Bokeh.version + \" successfully loaded.\";\n",
       "    } else if (Date.now() < window._bokeh_timeout) {\n",
       "      setTimeout(display_loaded, 100)\n",
       "    }\n",
       "  }\n",
       "\n",
       "  function run_callbacks() {\n",
       "    try {\n",
       "      window._bokeh_onload_callbacks.forEach(function(callback) { callback() });\n",
       "    }\n",
       "    finally {\n",
       "      delete window._bokeh_onload_callbacks\n",
       "    }\n",
       "    console.info(\"Bokeh: all callbacks have finished\");\n",
       "  }\n",
       "\n",
       "  function load_libs(js_urls, callback) {\n",
       "    window._bokeh_onload_callbacks.push(callback);\n",
       "    if (window._bokeh_is_loading > 0) {\n",
       "      console.log(\"Bokeh: BokehJS is being loaded, scheduling callback at\", now());\n",
       "      return null;\n",
       "    }\n",
       "    if (js_urls == null || js_urls.length === 0) {\n",
       "      run_callbacks();\n",
       "      return null;\n",
       "    }\n",
       "    console.log(\"Bokeh: BokehJS not loaded, scheduling load and callback at\", now());\n",
       "    window._bokeh_is_loading = js_urls.length;\n",
       "    for (var i = 0; i < js_urls.length; i++) {\n",
       "      var url = js_urls[i];\n",
       "      var s = document.createElement('script');\n",
       "      s.src = url;\n",
       "      s.async = false;\n",
       "      s.onreadystatechange = s.onload = function() {\n",
       "        window._bokeh_is_loading--;\n",
       "        if (window._bokeh_is_loading === 0) {\n",
       "          console.log(\"Bokeh: all BokehJS libraries loaded\");\n",
       "          run_callbacks()\n",
       "        }\n",
       "      };\n",
       "      s.onerror = function() {\n",
       "        console.warn(\"failed to load library \" + url);\n",
       "      };\n",
       "      console.log(\"Bokeh: injecting script tag for BokehJS library: \", url);\n",
       "      document.getElementsByTagName(\"head\")[0].appendChild(s);\n",
       "    }\n",
       "  };var element = document.getElementById(\"393c9d2b-83c1-422c-9f12-f823b2991378\");\n",
       "  if (element == null) {\n",
       "    console.log(\"Bokeh: ERROR: autoload.js configured with elementid '393c9d2b-83c1-422c-9f12-f823b2991378' but no matching script tag was found. \")\n",
       "    return false;\n",
       "  }\n",
       "\n",
       "  var js_urls = [\"https://cdn.pydata.org/bokeh/release/bokeh-0.12.6.min.js\", \"https://cdn.pydata.org/bokeh/release/bokeh-widgets-0.12.6.min.js\"];\n",
       "\n",
       "  var inline_js = [\n",
       "    function(Bokeh) {\n",
       "      Bokeh.set_log_level(\"info\");\n",
       "    },\n",
       "    \n",
       "    function(Bokeh) {\n",
       "      \n",
       "    },\n",
       "    \n",
       "    function(Bokeh) {\n",
       "      \n",
       "      document.getElementById(\"393c9d2b-83c1-422c-9f12-f823b2991378\").textContent = \"BokehJS is loading...\";\n",
       "    },\n",
       "    function(Bokeh) {\n",
       "      console.log(\"Bokeh: injecting CSS: https://cdn.pydata.org/bokeh/release/bokeh-0.12.6.min.css\");\n",
       "      Bokeh.embed.inject_css(\"https://cdn.pydata.org/bokeh/release/bokeh-0.12.6.min.css\");\n",
       "      console.log(\"Bokeh: injecting CSS: https://cdn.pydata.org/bokeh/release/bokeh-widgets-0.12.6.min.css\");\n",
       "      Bokeh.embed.inject_css(\"https://cdn.pydata.org/bokeh/release/bokeh-widgets-0.12.6.min.css\");\n",
       "    }\n",
       "  ];\n",
       "\n",
       "  function run_inline_js() {\n",
       "    \n",
       "    if ((window.Bokeh !== undefined) || (force === true)) {\n",
       "      for (var i = 0; i < inline_js.length; i++) {\n",
       "        inline_js[i](window.Bokeh);\n",
       "      }if (force === true) {\n",
       "        display_loaded();\n",
       "      }} else if (Date.now() < window._bokeh_timeout) {\n",
       "      setTimeout(run_inline_js, 100);\n",
       "    } else if (!window._bokeh_failed_load) {\n",
       "      console.log(\"Bokeh: BokehJS failed to load within specified timeout.\");\n",
       "      window._bokeh_failed_load = true;\n",
       "    } else if (force !== true) {\n",
       "      var cell = $(document.getElementById(\"393c9d2b-83c1-422c-9f12-f823b2991378\")).parents('.cell').data().cell;\n",
       "      cell.output_area.append_execute_result(NB_LOAD_WARNING)\n",
       "    }\n",
       "\n",
       "  }\n",
       "\n",
       "  if (window._bokeh_is_loading === 0) {\n",
       "    console.log(\"Bokeh: BokehJS loaded, going straight to plotting\");\n",
       "    run_inline_js();\n",
       "  } else {\n",
       "    load_libs(js_urls, function() {\n",
       "      console.log(\"Bokeh: BokehJS plotting callback run at\", now());\n",
       "      run_inline_js();\n",
       "    });\n",
       "  }\n",
       "}(this));"
      ]
     },
     "metadata": {},
     "output_type": "display_data"
    }
   ],
   "source": [
    "output_notebook()"
   ]
  },
  {
   "cell_type": "code",
   "execution_count": 111,
   "metadata": {
    "collapsed": false
   },
   "outputs": [
    {
     "name": "stdout",
     "output_type": "stream",
     "text": [
      "\r",
      " [-----------------100%-----------------] 50 of 50 complete in 0.0 sec"
     ]
    }
   ],
   "source": [
    "difference= differenceOfmeans(humanMean=4.5, variance=0.2, sampleSize =50)\n",
    "diffSource= ColumnDataSource(data=dict(difference=difference))\n",
    "HDI= HDIofMCMC(differenceOfMeans= difference, credMass=0.95)"
   ]
  },
  {
   "cell_type": "code",
   "execution_count": 112,
   "metadata": {
    "collapsed": false
   },
   "outputs": [
    {
     "name": "stdout",
     "output_type": "stream",
     "text": [
      " \n",
      "62% of our robot outputs are inside the ROPE\n"
     ]
    },
    {
     "data": {
      "text/plain": [
       "0.62"
      ]
     },
     "execution_count": 112,
     "metadata": {},
     "output_type": "execute_result"
    }
   ],
   "source": [
    "probInROPE(difference, ROPESize=0.5 )"
   ]
  },
  {
   "cell_type": "code",
   "execution_count": 129,
   "metadata": {
    "collapsed": false
   },
   "outputs": [
    {
     "data": {
      "text/html": [
       "<div style=\"display: table;\"><div style=\"display: table-row;\"><div style=\"display: table-cell;\"><b title=\"bokeh.models.renderers.GlyphRenderer\">GlyphRenderer</b>(</div><div style=\"display: table-cell;\">id&nbsp;=&nbsp;'8b442b8e-ecfb-4600-b9d9-b48a5c5d2193', <span id=\"d75dc879-469b-4318-9328-9fca9ce6ea62\" style=\"cursor: pointer;\">&hellip;)</span></div></div><div class=\"bfd2efa9-afe4-49fd-8d31-525b2780c371\" style=\"display: none;\"><div style=\"display: table-cell;\"></div><div style=\"display: table-cell;\">data_source&nbsp;=&nbsp;ColumnDataSource(id='5734383a-fb88-41d8-a860-a4ef9c002707', ...),</div></div><div class=\"bfd2efa9-afe4-49fd-8d31-525b2780c371\" style=\"display: none;\"><div style=\"display: table-cell;\"></div><div style=\"display: table-cell;\">glyph&nbsp;=&nbsp;Line(id='8612d7d6-3c9d-4a1d-bc57-dac9675d0d53', ...),</div></div><div class=\"bfd2efa9-afe4-49fd-8d31-525b2780c371\" style=\"display: none;\"><div style=\"display: table-cell;\"></div><div style=\"display: table-cell;\">hover_glyph&nbsp;=&nbsp;None,</div></div><div class=\"bfd2efa9-afe4-49fd-8d31-525b2780c371\" style=\"display: none;\"><div style=\"display: table-cell;\"></div><div style=\"display: table-cell;\">js_event_callbacks&nbsp;=&nbsp;{},</div></div><div class=\"bfd2efa9-afe4-49fd-8d31-525b2780c371\" style=\"display: none;\"><div style=\"display: table-cell;\"></div><div style=\"display: table-cell;\">js_property_callbacks&nbsp;=&nbsp;{},</div></div><div class=\"bfd2efa9-afe4-49fd-8d31-525b2780c371\" style=\"display: none;\"><div style=\"display: table-cell;\"></div><div style=\"display: table-cell;\">level&nbsp;=&nbsp;'glyph',</div></div><div class=\"bfd2efa9-afe4-49fd-8d31-525b2780c371\" style=\"display: none;\"><div style=\"display: table-cell;\"></div><div style=\"display: table-cell;\">muted&nbsp;=&nbsp;False,</div></div><div class=\"bfd2efa9-afe4-49fd-8d31-525b2780c371\" style=\"display: none;\"><div style=\"display: table-cell;\"></div><div style=\"display: table-cell;\">muted_glyph&nbsp;=&nbsp;None,</div></div><div class=\"bfd2efa9-afe4-49fd-8d31-525b2780c371\" style=\"display: none;\"><div style=\"display: table-cell;\"></div><div style=\"display: table-cell;\">name&nbsp;=&nbsp;None,</div></div><div class=\"bfd2efa9-afe4-49fd-8d31-525b2780c371\" style=\"display: none;\"><div style=\"display: table-cell;\"></div><div style=\"display: table-cell;\">nonselection_glyph&nbsp;=&nbsp;Line(id='00c0b309-76ab-4f8d-8a25-0b5ba8863441', ...),</div></div><div class=\"bfd2efa9-afe4-49fd-8d31-525b2780c371\" style=\"display: none;\"><div style=\"display: table-cell;\"></div><div style=\"display: table-cell;\">selection_glyph&nbsp;=&nbsp;None,</div></div><div class=\"bfd2efa9-afe4-49fd-8d31-525b2780c371\" style=\"display: none;\"><div style=\"display: table-cell;\"></div><div style=\"display: table-cell;\">subscribed_events&nbsp;=&nbsp;[],</div></div><div class=\"bfd2efa9-afe4-49fd-8d31-525b2780c371\" style=\"display: none;\"><div style=\"display: table-cell;\"></div><div style=\"display: table-cell;\">tags&nbsp;=&nbsp;[],</div></div><div class=\"bfd2efa9-afe4-49fd-8d31-525b2780c371\" style=\"display: none;\"><div style=\"display: table-cell;\"></div><div style=\"display: table-cell;\">visible&nbsp;=&nbsp;True,</div></div><div class=\"bfd2efa9-afe4-49fd-8d31-525b2780c371\" style=\"display: none;\"><div style=\"display: table-cell;\"></div><div style=\"display: table-cell;\">x_range_name&nbsp;=&nbsp;'default',</div></div><div class=\"bfd2efa9-afe4-49fd-8d31-525b2780c371\" style=\"display: none;\"><div style=\"display: table-cell;\"></div><div style=\"display: table-cell;\">y_range_name&nbsp;=&nbsp;'default')</div></div></div>\n",
       "<script>\n",
       "(function() {\n",
       "  var expanded = false;\n",
       "  var ellipsis = document.getElementById(\"d75dc879-469b-4318-9328-9fca9ce6ea62\");\n",
       "  ellipsis.addEventListener(\"click\", function() {\n",
       "    var rows = document.getElementsByClassName(\"bfd2efa9-afe4-49fd-8d31-525b2780c371\");\n",
       "    for (var i = 0; i < rows.length; i++) {\n",
       "      var el = rows[i];\n",
       "      el.style.display = expanded ? \"none\" : \"table-row\";\n",
       "    }\n",
       "    ellipsis.innerHTML = expanded ? \"&hellip;)\" : \"&lsaquo;&lsaquo;&lsaquo;\";\n",
       "    expanded = !expanded;\n",
       "  });\n",
       "})();\n",
       "</script>\n"
      ],
      "text/plain": [
       "GlyphRenderer(id='8b442b8e-ecfb-4600-b9d9-b48a5c5d2193', ...)"
      ]
     },
     "execution_count": 129,
     "metadata": {},
     "output_type": "execute_result"
    }
   ],
   "source": [
    "#plotROPEHDI(difference, HDI, ROPESize=0.5, credMass=0.95)\n",
    "\n",
    "p1 = figure(width=400, height=400, \n",
    "           title = \"histogram of difference of means {0:.0f}% HDI\" .format(credMass*100))\n",
    "hist,edges =np.histogram(diffSource.data['difference'])\n",
    "p1.quad(top=hist, bottom=0, left=edges[:-1], right=edges[1:],\n",
    "        fill_color=\"#7cb5ec\", line_color=\"#033649\")\n",
    "ROPE1 = Span(location=0-ROPESize, dimension='height', line_color='red', \n",
    "             line_width=3)\n",
    "ROPE2 = Span(location=ROPESize, dimension='height', line_color='red', \n",
    "             line_width=3)\n",
    "p1.renderers.extend([ROPE1, ROPE2])\n",
    "p1.line(x=[HDI[0], HDI[1]], y=[3,3], line_color='black', line_width=4, legend =\"HDI\")"
   ]
  },
  {
   "cell_type": "code",
   "execution_count": 130,
   "metadata": {
    "collapsed": true
   },
   "outputs": [],
   "source": [
    "def update(hMean=4.5, var=0.2, s=400):\n",
    "    difference= differenceOfmeans(humanMean=hMean, variance=var, sampleSize =s)\n",
    "    diffSource.data['difference']=difference\n",
    "    push_notebook()\n"
   ]
  },
  {
   "cell_type": "code",
   "execution_count": 131,
   "metadata": {
    "collapsed": false
   },
   "outputs": [
    {
     "data": {
      "text/html": [
       "\n",
       "\n",
       "    <div class=\"bk-root\">\n",
       "        <div class=\"bk-plotdiv\" id=\"745881f9-bfed-4a11-981e-aecea1c847f2\"></div>\n",
       "    </div>\n",
       "<script type=\"text/javascript\">\n",
       "  \n",
       "  (function(global) {\n",
       "    function now() {\n",
       "      return new Date();\n",
       "    }\n",
       "  \n",
       "    var force = false;\n",
       "  \n",
       "    if (typeof (window._bokeh_onload_callbacks) === \"undefined\" || force === true) {\n",
       "      window._bokeh_onload_callbacks = [];\n",
       "      window._bokeh_is_loading = undefined;\n",
       "    }\n",
       "  \n",
       "  \n",
       "    \n",
       "    if (typeof (window._bokeh_timeout) === \"undefined\" || force === true) {\n",
       "      window._bokeh_timeout = Date.now() + 0;\n",
       "      window._bokeh_failed_load = false;\n",
       "    }\n",
       "  \n",
       "    var NB_LOAD_WARNING = {'data': {'text/html':\n",
       "       \"<div style='background-color: #fdd'>\\n\"+\n",
       "       \"<p>\\n\"+\n",
       "       \"BokehJS does not appear to have successfully loaded. If loading BokehJS from CDN, this \\n\"+\n",
       "       \"may be due to a slow or bad network connection. Possible fixes:\\n\"+\n",
       "       \"</p>\\n\"+\n",
       "       \"<ul>\\n\"+\n",
       "       \"<li>re-rerun `output_notebook()` to attempt to load from CDN again, or</li>\\n\"+\n",
       "       \"<li>use INLINE resources instead, as so:</li>\\n\"+\n",
       "       \"</ul>\\n\"+\n",
       "       \"<code>\\n\"+\n",
       "       \"from bokeh.resources import INLINE\\n\"+\n",
       "       \"output_notebook(resources=INLINE)\\n\"+\n",
       "       \"</code>\\n\"+\n",
       "       \"</div>\"}};\n",
       "  \n",
       "    function display_loaded() {\n",
       "      if (window.Bokeh !== undefined) {\n",
       "        var el = document.getElementById(\"745881f9-bfed-4a11-981e-aecea1c847f2\");\n",
       "        el.textContent = \"BokehJS \" + Bokeh.version + \" successfully loaded.\";\n",
       "      } else if (Date.now() < window._bokeh_timeout) {\n",
       "        setTimeout(display_loaded, 100)\n",
       "      }\n",
       "    }if ((window.Jupyter !== undefined) && Jupyter.notebook.kernel) {\n",
       "      comm_manager = Jupyter.notebook.kernel.comm_manager\n",
       "      comm_manager.register_target(\"7280965f-dc04-4512-a878-e6cc8a57f639\", function () {});\n",
       "    }\n",
       "  \n",
       "    function run_callbacks() {\n",
       "      try {\n",
       "        window._bokeh_onload_callbacks.forEach(function(callback) { callback() });\n",
       "      }\n",
       "      finally {\n",
       "        delete window._bokeh_onload_callbacks\n",
       "      }\n",
       "      console.info(\"Bokeh: all callbacks have finished\");\n",
       "    }\n",
       "  \n",
       "    function load_libs(js_urls, callback) {\n",
       "      window._bokeh_onload_callbacks.push(callback);\n",
       "      if (window._bokeh_is_loading > 0) {\n",
       "        console.log(\"Bokeh: BokehJS is being loaded, scheduling callback at\", now());\n",
       "        return null;\n",
       "      }\n",
       "      if (js_urls == null || js_urls.length === 0) {\n",
       "        run_callbacks();\n",
       "        return null;\n",
       "      }\n",
       "      console.log(\"Bokeh: BokehJS not loaded, scheduling load and callback at\", now());\n",
       "      window._bokeh_is_loading = js_urls.length;\n",
       "      for (var i = 0; i < js_urls.length; i++) {\n",
       "        var url = js_urls[i];\n",
       "        var s = document.createElement('script');\n",
       "        s.src = url;\n",
       "        s.async = false;\n",
       "        s.onreadystatechange = s.onload = function() {\n",
       "          window._bokeh_is_loading--;\n",
       "          if (window._bokeh_is_loading === 0) {\n",
       "            console.log(\"Bokeh: all BokehJS libraries loaded\");\n",
       "            run_callbacks()\n",
       "          }\n",
       "        };\n",
       "        s.onerror = function() {\n",
       "          console.warn(\"failed to load library \" + url);\n",
       "        };\n",
       "        console.log(\"Bokeh: injecting script tag for BokehJS library: \", url);\n",
       "        document.getElementsByTagName(\"head\")[0].appendChild(s);\n",
       "      }\n",
       "    };var element = document.getElementById(\"745881f9-bfed-4a11-981e-aecea1c847f2\");\n",
       "    if (element == null) {\n",
       "      console.log(\"Bokeh: ERROR: autoload.js configured with elementid '745881f9-bfed-4a11-981e-aecea1c847f2' but no matching script tag was found. \")\n",
       "      return false;\n",
       "    }\n",
       "  \n",
       "    var js_urls = [];\n",
       "  \n",
       "    var inline_js = [\n",
       "      function(Bokeh) {\n",
       "        (function() {\n",
       "          var fn = function() {\n",
       "            var docs_json = {\"4f688953-513a-42da-9bb7-b22e699030a0\":{\"roots\":{\"references\":[{\"attributes\":{\"formatter\":{\"id\":\"0b541435-5b7c-4764-b5d8-27117aab7c87\",\"type\":\"BasicTickFormatter\"},\"plot\":{\"id\":\"a1cc7178-c3e6-4b36-a385-ef088c54744e\",\"subtype\":\"Figure\",\"type\":\"Plot\"},\"ticker\":{\"id\":\"e52e838b-92ee-42b0-924a-40c582696485\",\"type\":\"BasicTicker\"}},\"id\":\"e33f8045-9620-4fba-9dba-953321fedba4\",\"type\":\"LinearAxis\"},{\"attributes\":{\"data_source\":{\"id\":\"d0b1886c-d28c-4fd3-a740-d64a988e8733\",\"type\":\"ColumnDataSource\"},\"glyph\":{\"id\":\"b0607c6b-d23f-496b-801b-b9877f5f0904\",\"type\":\"Quad\"},\"hover_glyph\":null,\"muted_glyph\":null,\"nonselection_glyph\":{\"id\":\"18ce5847-f6a5-4156-9a3e-3116b9766a27\",\"type\":\"Quad\"},\"selection_glyph\":null},\"id\":\"6feff122-d4dc-4185-98b5-d5c642ae07d2\",\"type\":\"GlyphRenderer\"},{\"attributes\":{\"bottom\":{\"value\":0},\"fill_alpha\":{\"value\":0.1},\"fill_color\":{\"value\":\"#1f77b4\"},\"left\":{\"field\":\"left\"},\"line_alpha\":{\"value\":0.1},\"line_color\":{\"value\":\"#1f77b4\"},\"right\":{\"field\":\"right\"},\"top\":{\"field\":\"top\"}},\"id\":\"18ce5847-f6a5-4156-9a3e-3116b9766a27\",\"type\":\"Quad\"},{\"attributes\":{\"below\":[{\"id\":\"e33f8045-9620-4fba-9dba-953321fedba4\",\"type\":\"LinearAxis\"}],\"left\":[{\"id\":\"efe5ee77-06c4-414c-898b-5e13ac716664\",\"type\":\"LinearAxis\"}],\"plot_height\":400,\"plot_width\":400,\"renderers\":[{\"id\":\"e33f8045-9620-4fba-9dba-953321fedba4\",\"type\":\"LinearAxis\"},{\"id\":\"d2942efa-7308-411d-bc35-7c69af4451dd\",\"type\":\"Grid\"},{\"id\":\"efe5ee77-06c4-414c-898b-5e13ac716664\",\"type\":\"LinearAxis\"},{\"id\":\"7bf4cad2-6cee-4df9-8478-e5c6e2c5a107\",\"type\":\"Grid\"},{\"id\":\"8bd120d5-6495-41b9-864e-65bbc51b6003\",\"type\":\"BoxAnnotation\"},{\"id\":\"6feff122-d4dc-4185-98b5-d5c642ae07d2\",\"type\":\"GlyphRenderer\"},{\"id\":\"398253ba-ae57-402f-b477-225d4523c345\",\"type\":\"Span\"},{\"id\":\"21135ee1-a135-4491-9146-1cd32d969ec7\",\"type\":\"Span\"},{\"id\":\"59c2cb45-118d-4b98-a4c6-901c4d516490\",\"type\":\"Legend\"},{\"id\":\"8b442b8e-ecfb-4600-b9d9-b48a5c5d2193\",\"type\":\"GlyphRenderer\"}],\"title\":{\"id\":\"7de65c6c-79cd-48f5-a1e0-f9e3dc0ca3af\",\"type\":\"Title\"},\"tool_events\":{\"id\":\"87a6fa78-61d9-4810-9e2a-51d865366911\",\"type\":\"ToolEvents\"},\"toolbar\":{\"id\":\"27054d39-99e7-49e2-869c-f8d0094af908\",\"type\":\"Toolbar\"},\"x_range\":{\"id\":\"e13cb6b8-dc19-4557-8af8-2040067fdf8f\",\"type\":\"DataRange1d\"},\"x_scale\":{\"id\":\"6db4f98c-198c-4367-8026-54f1b00b9711\",\"type\":\"LinearScale\"},\"y_range\":{\"id\":\"74c60e14-dff2-4567-9b9c-ac87013c8c5b\",\"type\":\"DataRange1d\"},\"y_scale\":{\"id\":\"67937016-32dd-4222-ba1a-12654a1fbe90\",\"type\":\"LinearScale\"}},\"id\":\"a1cc7178-c3e6-4b36-a385-ef088c54744e\",\"subtype\":\"Figure\",\"type\":\"Plot\"},{\"attributes\":{\"bottom_units\":\"screen\",\"fill_alpha\":{\"value\":0.5},\"fill_color\":{\"value\":\"lightgrey\"},\"left_units\":\"screen\",\"level\":\"overlay\",\"line_alpha\":{\"value\":1.0},\"line_color\":{\"value\":\"black\"},\"line_dash\":[4,4],\"line_width\":{\"value\":2},\"plot\":null,\"render_mode\":\"css\",\"right_units\":\"screen\",\"top_units\":\"screen\"},\"id\":\"8bd120d5-6495-41b9-864e-65bbc51b6003\",\"type\":\"BoxAnnotation\"},{\"attributes\":{\"plot\":{\"id\":\"a1cc7178-c3e6-4b36-a385-ef088c54744e\",\"subtype\":\"Figure\",\"type\":\"Plot\"}},\"id\":\"127bb999-576b-4f19-9efd-d00f9ab8feb7\",\"type\":\"SaveTool\"},{\"attributes\":{\"dimension\":\"height\",\"line_color\":{\"value\":\"red\"},\"line_width\":{\"value\":3},\"location\":0.5,\"plot\":null},\"id\":\"21135ee1-a135-4491-9146-1cd32d969ec7\",\"type\":\"Span\"},{\"attributes\":{\"line_width\":{\"value\":4},\"x\":{\"field\":\"x\"},\"y\":{\"field\":\"y\"}},\"id\":\"8612d7d6-3c9d-4a1d-bc57-dac9675d0d53\",\"type\":\"Line\"},{\"attributes\":{\"plot\":{\"id\":\"a1cc7178-c3e6-4b36-a385-ef088c54744e\",\"subtype\":\"Figure\",\"type\":\"Plot\"}},\"id\":\"25e283c0-7d30-44b4-b239-2c580f7902ed\",\"type\":\"HelpTool\"},{\"attributes\":{\"plot\":{\"id\":\"a1cc7178-c3e6-4b36-a385-ef088c54744e\",\"subtype\":\"Figure\",\"type\":\"Plot\"}},\"id\":\"1355b5f7-cac7-4d3d-a8ef-e4c3c644f715\",\"type\":\"PanTool\"},{\"attributes\":{\"callback\":null},\"id\":\"e13cb6b8-dc19-4557-8af8-2040067fdf8f\",\"type\":\"DataRange1d\"},{\"attributes\":{},\"id\":\"87a6fa78-61d9-4810-9e2a-51d865366911\",\"type\":\"ToolEvents\"},{\"attributes\":{\"callback\":null,\"column_names\":[\"x\",\"y\"],\"data\":{\"x\":[-1.132516530039207,1.0169660413411954],\"y\":[3,3]}},\"id\":\"5734383a-fb88-41d8-a860-a4ef9c002707\",\"type\":\"ColumnDataSource\"},{\"attributes\":{\"active_drag\":\"auto\",\"active_inspect\":\"auto\",\"active_scroll\":\"auto\",\"active_tap\":\"auto\",\"tools\":[{\"id\":\"1355b5f7-cac7-4d3d-a8ef-e4c3c644f715\",\"type\":\"PanTool\"},{\"id\":\"550e0351-d604-400b-b066-992434be9ab5\",\"type\":\"WheelZoomTool\"},{\"id\":\"32f83604-fee6-4848-bd32-8687de4a9753\",\"type\":\"BoxZoomTool\"},{\"id\":\"127bb999-576b-4f19-9efd-d00f9ab8feb7\",\"type\":\"SaveTool\"},{\"id\":\"ef343efb-b136-4da4-b725-9ae52a122586\",\"type\":\"ResetTool\"},{\"id\":\"25e283c0-7d30-44b4-b239-2c580f7902ed\",\"type\":\"HelpTool\"}]},\"id\":\"27054d39-99e7-49e2-869c-f8d0094af908\",\"type\":\"Toolbar\"},{\"attributes\":{\"callback\":null},\"id\":\"74c60e14-dff2-4567-9b9c-ac87013c8c5b\",\"type\":\"DataRange1d\"},{\"attributes\":{\"bottom\":{\"value\":0},\"fill_color\":{\"value\":\"#7cb5ec\"},\"left\":{\"field\":\"left\"},\"line_color\":{\"value\":\"#033649\"},\"right\":{\"field\":\"right\"},\"top\":{\"field\":\"top\"}},\"id\":\"b0607c6b-d23f-496b-801b-b9877f5f0904\",\"type\":\"Quad\"},{\"attributes\":{\"dimension\":\"height\",\"line_color\":{\"value\":\"red\"},\"line_width\":{\"value\":3},\"location\":-0.5,\"plot\":null},\"id\":\"398253ba-ae57-402f-b477-225d4523c345\",\"type\":\"Span\"},{\"attributes\":{},\"id\":\"84900f4f-80d0-427b-8d5a-d28dca0d3457\",\"type\":\"BasicTickFormatter\"},{\"attributes\":{\"dimension\":1,\"plot\":{\"id\":\"a1cc7178-c3e6-4b36-a385-ef088c54744e\",\"subtype\":\"Figure\",\"type\":\"Plot\"},\"ticker\":{\"id\":\"2f3e501c-6f69-4a47-8cd4-041165ccfce1\",\"type\":\"BasicTicker\"}},\"id\":\"7bf4cad2-6cee-4df9-8478-e5c6e2c5a107\",\"type\":\"Grid\"},{\"attributes\":{\"items\":[{\"id\":\"165e430a-e446-42b4-b667-af8b203063ab\",\"type\":\"LegendItem\"}],\"plot\":{\"id\":\"a1cc7178-c3e6-4b36-a385-ef088c54744e\",\"subtype\":\"Figure\",\"type\":\"Plot\"}},\"id\":\"59c2cb45-118d-4b98-a4c6-901c4d516490\",\"type\":\"Legend\"},{\"attributes\":{\"plot\":{\"id\":\"a1cc7178-c3e6-4b36-a385-ef088c54744e\",\"subtype\":\"Figure\",\"type\":\"Plot\"}},\"id\":\"ef343efb-b136-4da4-b725-9ae52a122586\",\"type\":\"ResetTool\"},{\"attributes\":{\"formatter\":{\"id\":\"84900f4f-80d0-427b-8d5a-d28dca0d3457\",\"type\":\"BasicTickFormatter\"},\"plot\":{\"id\":\"a1cc7178-c3e6-4b36-a385-ef088c54744e\",\"subtype\":\"Figure\",\"type\":\"Plot\"},\"ticker\":{\"id\":\"2f3e501c-6f69-4a47-8cd4-041165ccfce1\",\"type\":\"BasicTicker\"}},\"id\":\"efe5ee77-06c4-414c-898b-5e13ac716664\",\"type\":\"LinearAxis\"},{\"attributes\":{\"plot\":{\"id\":\"a1cc7178-c3e6-4b36-a385-ef088c54744e\",\"subtype\":\"Figure\",\"type\":\"Plot\"}},\"id\":\"550e0351-d604-400b-b066-992434be9ab5\",\"type\":\"WheelZoomTool\"},{\"attributes\":{\"data_source\":{\"id\":\"5734383a-fb88-41d8-a860-a4ef9c002707\",\"type\":\"ColumnDataSource\"},\"glyph\":{\"id\":\"8612d7d6-3c9d-4a1d-bc57-dac9675d0d53\",\"type\":\"Line\"},\"hover_glyph\":null,\"muted_glyph\":null,\"nonselection_glyph\":{\"id\":\"00c0b309-76ab-4f8d-8a25-0b5ba8863441\",\"type\":\"Line\"},\"selection_glyph\":null},\"id\":\"8b442b8e-ecfb-4600-b9d9-b48a5c5d2193\",\"type\":\"GlyphRenderer\"},{\"attributes\":{\"line_alpha\":{\"value\":0.1},\"line_color\":{\"value\":\"#1f77b4\"},\"line_width\":{\"value\":4},\"x\":{\"field\":\"x\"},\"y\":{\"field\":\"y\"}},\"id\":\"00c0b309-76ab-4f8d-8a25-0b5ba8863441\",\"type\":\"Line\"},{\"attributes\":{},\"id\":\"6db4f98c-198c-4367-8026-54f1b00b9711\",\"type\":\"LinearScale\"},{\"attributes\":{},\"id\":\"67937016-32dd-4222-ba1a-12654a1fbe90\",\"type\":\"LinearScale\"},{\"attributes\":{\"plot\":null,\"text\":\"histogram of difference of means 95% HDI\"},\"id\":\"7de65c6c-79cd-48f5-a1e0-f9e3dc0ca3af\",\"type\":\"Title\"},{\"attributes\":{},\"id\":\"2f3e501c-6f69-4a47-8cd4-041165ccfce1\",\"type\":\"BasicTicker\"},{\"attributes\":{\"plot\":{\"id\":\"a1cc7178-c3e6-4b36-a385-ef088c54744e\",\"subtype\":\"Figure\",\"type\":\"Plot\"},\"ticker\":{\"id\":\"e52e838b-92ee-42b0-924a-40c582696485\",\"type\":\"BasicTicker\"}},\"id\":\"d2942efa-7308-411d-bc35-7c69af4451dd\",\"type\":\"Grid\"},{\"attributes\":{},\"id\":\"e52e838b-92ee-42b0-924a-40c582696485\",\"type\":\"BasicTicker\"},{\"attributes\":{\"callback\":null,\"column_names\":[\"right\",\"top\",\"left\"],\"data\":{\"left\":{\"__ndarray__\":\"wJna6aZxCMB14dzQ3ngBwFNSvm8tAPW/8IYL93Q63L9oO+LQy4vbP3D/MyaD1PQ/BLgXrAljAUBOcBXF0VsIQJooE96ZVA9Ac3CI+7AmE0A=\",\"dtype\":\"float64\",\"shape\":[10]},\"right\":{\"__ndarray__\":\"deHc0N54AcBTUr5vLQD1v/CGC/d0Oty/aDvi0MuL2z9w/zMmg9T0PwS4F6wJYwFATnAVxdFbCECaKBPemVQPQHNwiPuwJhNAl0wHCBWjFkA=\",\"dtype\":\"float64\",\"shape\":[10]},\"top\":[48,120,168,188,176,94,49,13,3,2]}},\"id\":\"d0b1886c-d28c-4fd3-a740-d64a988e8733\",\"type\":\"ColumnDataSource\"},{\"attributes\":{\"overlay\":{\"id\":\"8bd120d5-6495-41b9-864e-65bbc51b6003\",\"type\":\"BoxAnnotation\"},\"plot\":{\"id\":\"a1cc7178-c3e6-4b36-a385-ef088c54744e\",\"subtype\":\"Figure\",\"type\":\"Plot\"}},\"id\":\"32f83604-fee6-4848-bd32-8687de4a9753\",\"type\":\"BoxZoomTool\"},{\"attributes\":{},\"id\":\"0b541435-5b7c-4764-b5d8-27117aab7c87\",\"type\":\"BasicTickFormatter\"},{\"attributes\":{\"label\":{\"value\":\"HDI\"},\"renderers\":[{\"id\":\"8b442b8e-ecfb-4600-b9d9-b48a5c5d2193\",\"type\":\"GlyphRenderer\"}]},\"id\":\"165e430a-e446-42b4-b667-af8b203063ab\",\"type\":\"LegendItem\"}],\"root_ids\":[\"a1cc7178-c3e6-4b36-a385-ef088c54744e\"]},\"title\":\"Bokeh Application\",\"version\":\"0.12.6\"}};\n",
       "            var render_items = [{\"docid\":\"4f688953-513a-42da-9bb7-b22e699030a0\",\"elementid\":\"745881f9-bfed-4a11-981e-aecea1c847f2\",\"modelid\":\"a1cc7178-c3e6-4b36-a385-ef088c54744e\",\"notebook_comms_target\":\"7280965f-dc04-4512-a878-e6cc8a57f639\"}];\n",
       "            \n",
       "            Bokeh.embed.embed_items(docs_json, render_items);\n",
       "          };\n",
       "          if (document.readyState != \"loading\") fn();\n",
       "          else document.addEventListener(\"DOMContentLoaded\", fn);\n",
       "        })();\n",
       "      },\n",
       "      function(Bokeh) {\n",
       "      }\n",
       "    ];\n",
       "  \n",
       "    function run_inline_js() {\n",
       "      \n",
       "      if ((window.Bokeh !== undefined) || (force === true)) {\n",
       "        for (var i = 0; i < inline_js.length; i++) {\n",
       "          inline_js[i](window.Bokeh);\n",
       "        }if (force === true) {\n",
       "          display_loaded();\n",
       "        }} else if (Date.now() < window._bokeh_timeout) {\n",
       "        setTimeout(run_inline_js, 100);\n",
       "      } else if (!window._bokeh_failed_load) {\n",
       "        console.log(\"Bokeh: BokehJS failed to load within specified timeout.\");\n",
       "        window._bokeh_failed_load = true;\n",
       "      } else if (force !== true) {\n",
       "        var cell = $(document.getElementById(\"745881f9-bfed-4a11-981e-aecea1c847f2\")).parents('.cell').data().cell;\n",
       "        cell.output_area.append_execute_result(NB_LOAD_WARNING)\n",
       "      }\n",
       "  \n",
       "    }\n",
       "  \n",
       "    if (window._bokeh_is_loading === 0) {\n",
       "      console.log(\"Bokeh: BokehJS loaded, going straight to plotting\");\n",
       "      run_inline_js();\n",
       "    } else {\n",
       "      load_libs(js_urls, function() {\n",
       "        console.log(\"Bokeh: BokehJS plotting callback run at\", now());\n",
       "        run_inline_js();\n",
       "      });\n",
       "    }\n",
       "  }(this));\n",
       "</script>"
      ]
     },
     "metadata": {},
     "output_type": "display_data"
    },
    {
     "data": {
      "text/html": [
       "<p><code>&lt;Bokeh Notebook handle for <strong>In[161]</strong>&gt;</code></p>"
      ],
      "text/plain": [
       "<bokeh.io._CommsHandle at 0xe8c9b70>"
      ]
     },
     "execution_count": 131,
     "metadata": {},
     "output_type": "execute_result"
    }
   ],
   "source": [
    "show(p1, notebook_handle=True)"
   ]
  },
  {
   "cell_type": "code",
   "execution_count": 128,
   "metadata": {
    "collapsed": false
   },
   "outputs": [
    {
     "name": "stdout",
     "output_type": "stream",
     "text": [
      "\r",
      " [-----------------100%-----------------] 390 of 390 complete in 0.2 sec"
     ]
    }
   ],
   "source": [
    "from IPython.html.widgets import interact\n",
    "interact(update, hMean=(1,10), var=(.05, 2), s=(10,1000))"
   ]
  },
  {
   "cell_type": "code",
   "execution_count": 116,
   "metadata": {
    "collapsed": false
   },
   "outputs": [],
   "source": [
    "####Need to figure out how to round this and put it in annotation\n",
    "#HDIText=\"HDI: {}\" .format(np.around(HDI, decimals=1))\n",
    "#ROPEText=\"ROPE: [-{0}, {1}]\" .format(ROPESize, ROPESize)\n",
    "#ax.annotate(HDIText, (0.4, 0.05), textcoords='axes fraction', size=20, color='black')\n",
    "#ax.annotate(ROPEText, (.5, .8), textcoords='axes fraction', size = 20, color = 'red')\n",
    "#show(p1, sliders)"
   ]
  },
  {
   "cell_type": "code",
   "execution_count": null,
   "metadata": {
    "collapsed": true
   },
   "outputs": [],
   "source": []
  }
 ],
 "metadata": {
  "kernelspec": {
   "display_name": "Python 2",
   "language": "python",
   "name": "python2"
  },
  "language_info": {
   "codemirror_mode": {
    "name": "ipython",
    "version": 2
   },
   "file_extension": ".py",
   "mimetype": "text/x-python",
   "name": "python",
   "nbconvert_exporter": "python",
   "pygments_lexer": "ipython2",
   "version": "2.7.13"
  },
  "widgets": {
   "state": {
    "fe0f58daa9df4563a517191a8de50a83": {
     "views": [
      {
       "cell_index": 13
      }
     ]
    }
   },
   "version": "1.2.0"
  }
 },
 "nbformat": 4,
 "nbformat_minor": 2
}
