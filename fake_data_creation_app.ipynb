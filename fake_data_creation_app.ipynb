{
 "cells": [
  {
   "cell_type": "code",
   "execution_count": 1,
   "metadata": {
    "collapsed": true
   },
   "outputs": [],
   "source": [
    "import numpy as np\n",
    "from bokeh.plotting import figure, show, output_notebook\n",
    "from bokeh.models import Span, ColumnDataSource\n",
    "from bokeh.models.widgets import Slider, TextInput\n",
    "from bokeh.io import push_notebook\n",
    "from bokeh.layouts import row, widgetbox"
   ]
  },
  {
   "cell_type": "code",
   "execution_count": 2,
   "metadata": {
    "collapsed": true
   },
   "outputs": [],
   "source": [
    "#ROPE is the Region of practical equivalence. \n",
    "#This is often [-0.1, 0.1] or something like this.\n",
    "execfile('C:\\\\Users\\\\xandr\\\\OneDrive\\\\Documents\\\\GitHub\\\\MC_Sim\\\\functionizing_fake_data.py')\n",
    "\n",
    "credMass=0.95\n",
    "ROPESize=0.5 "
   ]
  },
  {
   "cell_type": "code",
   "execution_count": 3,
   "metadata": {},
   "outputs": [
    {
     "data": {
      "text/html": [
       "\n",
       "    <div class=\"bk-root\">\n",
       "        <a href=\"http://bokeh.pydata.org\" target=\"_blank\" class=\"bk-logo bk-logo-small bk-logo-notebook\"></a>\n",
       "        <span id=\"872ff457-f8ba-4572-a2c2-ff5b68c7db9b\">Loading BokehJS ...</span>\n",
       "    </div>"
      ]
     },
     "metadata": {},
     "output_type": "display_data"
    },
    {
     "data": {
      "application/javascript": [
       "\n",
       "(function(global) {\n",
       "  function now() {\n",
       "    return new Date();\n",
       "  }\n",
       "\n",
       "  var force = true;\n",
       "\n",
       "  if (typeof (window._bokeh_onload_callbacks) === \"undefined\" || force === true) {\n",
       "    window._bokeh_onload_callbacks = [];\n",
       "    window._bokeh_is_loading = undefined;\n",
       "  }\n",
       "\n",
       "\n",
       "  \n",
       "  if (typeof (window._bokeh_timeout) === \"undefined\" || force === true) {\n",
       "    window._bokeh_timeout = Date.now() + 5000;\n",
       "    window._bokeh_failed_load = false;\n",
       "  }\n",
       "\n",
       "  var NB_LOAD_WARNING = {'data': {'text/html':\n",
       "     \"<div style='background-color: #fdd'>\\n\"+\n",
       "     \"<p>\\n\"+\n",
       "     \"BokehJS does not appear to have successfully loaded. If loading BokehJS from CDN, this \\n\"+\n",
       "     \"may be due to a slow or bad network connection. Possible fixes:\\n\"+\n",
       "     \"</p>\\n\"+\n",
       "     \"<ul>\\n\"+\n",
       "     \"<li>re-rerun `output_notebook()` to attempt to load from CDN again, or</li>\\n\"+\n",
       "     \"<li>use INLINE resources instead, as so:</li>\\n\"+\n",
       "     \"</ul>\\n\"+\n",
       "     \"<code>\\n\"+\n",
       "     \"from bokeh.resources import INLINE\\n\"+\n",
       "     \"output_notebook(resources=INLINE)\\n\"+\n",
       "     \"</code>\\n\"+\n",
       "     \"</div>\"}};\n",
       "\n",
       "  function display_loaded() {\n",
       "    if (window.Bokeh !== undefined) {\n",
       "      var el = document.getElementById(\"872ff457-f8ba-4572-a2c2-ff5b68c7db9b\");\n",
       "      el.textContent = \"BokehJS \" + Bokeh.version + \" successfully loaded.\";\n",
       "    } else if (Date.now() < window._bokeh_timeout) {\n",
       "      setTimeout(display_loaded, 100)\n",
       "    }\n",
       "  }\n",
       "\n",
       "  function run_callbacks() {\n",
       "    try {\n",
       "      window._bokeh_onload_callbacks.forEach(function(callback) { callback() });\n",
       "    }\n",
       "    finally {\n",
       "      delete window._bokeh_onload_callbacks\n",
       "    }\n",
       "    console.info(\"Bokeh: all callbacks have finished\");\n",
       "  }\n",
       "\n",
       "  function load_libs(js_urls, callback) {\n",
       "    window._bokeh_onload_callbacks.push(callback);\n",
       "    if (window._bokeh_is_loading > 0) {\n",
       "      console.log(\"Bokeh: BokehJS is being loaded, scheduling callback at\", now());\n",
       "      return null;\n",
       "    }\n",
       "    if (js_urls == null || js_urls.length === 0) {\n",
       "      run_callbacks();\n",
       "      return null;\n",
       "    }\n",
       "    console.log(\"Bokeh: BokehJS not loaded, scheduling load and callback at\", now());\n",
       "    window._bokeh_is_loading = js_urls.length;\n",
       "    for (var i = 0; i < js_urls.length; i++) {\n",
       "      var url = js_urls[i];\n",
       "      var s = document.createElement('script');\n",
       "      s.src = url;\n",
       "      s.async = false;\n",
       "      s.onreadystatechange = s.onload = function() {\n",
       "        window._bokeh_is_loading--;\n",
       "        if (window._bokeh_is_loading === 0) {\n",
       "          console.log(\"Bokeh: all BokehJS libraries loaded\");\n",
       "          run_callbacks()\n",
       "        }\n",
       "      };\n",
       "      s.onerror = function() {\n",
       "        console.warn(\"failed to load library \" + url);\n",
       "      };\n",
       "      console.log(\"Bokeh: injecting script tag for BokehJS library: \", url);\n",
       "      document.getElementsByTagName(\"head\")[0].appendChild(s);\n",
       "    }\n",
       "  };var element = document.getElementById(\"872ff457-f8ba-4572-a2c2-ff5b68c7db9b\");\n",
       "  if (element == null) {\n",
       "    console.log(\"Bokeh: ERROR: autoload.js configured with elementid '872ff457-f8ba-4572-a2c2-ff5b68c7db9b' but no matching script tag was found. \")\n",
       "    return false;\n",
       "  }\n",
       "\n",
       "  var js_urls = [\"https://cdn.pydata.org/bokeh/release/bokeh-0.12.6.min.js\", \"https://cdn.pydata.org/bokeh/release/bokeh-widgets-0.12.6.min.js\"];\n",
       "\n",
       "  var inline_js = [\n",
       "    function(Bokeh) {\n",
       "      Bokeh.set_log_level(\"info\");\n",
       "    },\n",
       "    \n",
       "    function(Bokeh) {\n",
       "      \n",
       "    },\n",
       "    \n",
       "    function(Bokeh) {\n",
       "      \n",
       "      document.getElementById(\"872ff457-f8ba-4572-a2c2-ff5b68c7db9b\").textContent = \"BokehJS is loading...\";\n",
       "    },\n",
       "    function(Bokeh) {\n",
       "      console.log(\"Bokeh: injecting CSS: https://cdn.pydata.org/bokeh/release/bokeh-0.12.6.min.css\");\n",
       "      Bokeh.embed.inject_css(\"https://cdn.pydata.org/bokeh/release/bokeh-0.12.6.min.css\");\n",
       "      console.log(\"Bokeh: injecting CSS: https://cdn.pydata.org/bokeh/release/bokeh-widgets-0.12.6.min.css\");\n",
       "      Bokeh.embed.inject_css(\"https://cdn.pydata.org/bokeh/release/bokeh-widgets-0.12.6.min.css\");\n",
       "    }\n",
       "  ];\n",
       "\n",
       "  function run_inline_js() {\n",
       "    \n",
       "    if ((window.Bokeh !== undefined) || (force === true)) {\n",
       "      for (var i = 0; i < inline_js.length; i++) {\n",
       "        inline_js[i](window.Bokeh);\n",
       "      }if (force === true) {\n",
       "        display_loaded();\n",
       "      }} else if (Date.now() < window._bokeh_timeout) {\n",
       "      setTimeout(run_inline_js, 100);\n",
       "    } else if (!window._bokeh_failed_load) {\n",
       "      console.log(\"Bokeh: BokehJS failed to load within specified timeout.\");\n",
       "      window._bokeh_failed_load = true;\n",
       "    } else if (force !== true) {\n",
       "      var cell = $(document.getElementById(\"872ff457-f8ba-4572-a2c2-ff5b68c7db9b\")).parents('.cell').data().cell;\n",
       "      cell.output_area.append_execute_result(NB_LOAD_WARNING)\n",
       "    }\n",
       "\n",
       "  }\n",
       "\n",
       "  if (window._bokeh_is_loading === 0) {\n",
       "    console.log(\"Bokeh: BokehJS loaded, going straight to plotting\");\n",
       "    run_inline_js();\n",
       "  } else {\n",
       "    load_libs(js_urls, function() {\n",
       "      console.log(\"Bokeh: BokehJS plotting callback run at\", now());\n",
       "      run_inline_js();\n",
       "    });\n",
       "  }\n",
       "}(this));"
      ]
     },
     "metadata": {},
     "output_type": "display_data"
    }
   ],
   "source": [
    "output_notebook()"
   ]
  },
  {
   "cell_type": "code",
   "execution_count": 10,
   "metadata": {},
   "outputs": [
    {
     "name": "stdout",
     "output_type": "stream",
     "text": [
      "\r",
      " [-----------------100%-----------------] 50 of 50 complete in 0.1 sec"
     ]
    }
   ],
   "source": [
    "diffSource= ColumnDataSource(data=dict(difference= differenceOfmeans(humanMean=4.5, variance=0.2, sampleSize =50)))"
   ]
  },
  {
   "cell_type": "markdown",
   "metadata": {},
   "source": [
    "HighestDensityInterval: where 95% of the differences are? are they close to 0?"
   ]
  },
  {
   "cell_type": "code",
   "execution_count": 11,
   "metadata": {
    "collapsed": true
   },
   "outputs": [],
   "source": [
    "def make_plot(diffSource):\n",
    "    p1 = figure(width=400, height=400, \n",
    "           title = \"histogram of difference of means {0:.0f}% HDI\" .format(credMass*100))\n",
    "    probInROPE(diffSource.data['difference'], ROPESize=0.5 )\n",
    "    HDI= HDIofMCMC(differenceOfMeans= diffSource.data['difference'], credMass=0.95)\n",
    "    print(\"The HDI is {}\" .format(HDI))\n",
    "    hist,edges =np.histogram(diffSource.data['difference'])\n",
    "    p1.quad(top=hist, bottom=0, left=edges[:-1], right=edges[1:],\n",
    "            fill_color=\"#7cb5ec\", line_color=\"#033649\")\n",
    "    #ROPE1 = Span(location=0-ROPESize, dimension='height', line_color='red', \n",
    "    #             line_width=3)\n",
    "    #ROPE2 = Span(location=ROPESize, dimension='height', line_color='red', \n",
    "    #             line_width=3)\n",
    "    #p1.renderers.extend([ROPE1, ROPE2])\n",
    "    #p1.line(x=[HDI[0], HDI[1]], y=[3,3], line_color='black', line_width=4, legend =\"HDI\")\n",
    "    return p1"
   ]
  },
  {
   "cell_type": "code",
   "execution_count": 12,
   "metadata": {},
   "outputs": [
    {
     "name": "stdout",
     "output_type": "stream",
     "text": [
      " \n",
      "66% of our robot outputs are inside the ROPE\n",
      "The HDI is [-1.3683458127676476, 1.1353609333378829]\n"
     ]
    }
   ],
   "source": [
    "p1=make_plot(diffSource)"
   ]
  },
  {
   "cell_type": "code",
   "execution_count": null,
   "metadata": {},
   "outputs": [],
   "source": []
  },
  {
   "cell_type": "code",
   "execution_count": 13,
   "metadata": {
    "collapsed": true
   },
   "outputs": [],
   "source": [
    "\n",
    "#sampleSlider = Slider(title=\"Sample Size\", value=50, start=10, end=10000, step=10)\n",
    "varianceSlider = Slider(title=\"Variance\", value=0.2, start=0.05, end=2, step=0.05)\n",
    "humanMeanSlider= Slider(title=\"Human Mean NIIRS\", value=4.5, start=1, end=10, step=0.1)\n",
    "#ROPESlider= Slider(title= \"ROPE Size (Region of Practical Equivalence)\", value = 0.5, start= 0.05, end = 1, step=0.05)\n",
    "#credibleRegionSlider= Slider(title = \"Credible Mass\", value = 0.95, start = 0.75, end = 0.995, step=0.05)\n",
    "#button = Button(label='press me') "
   ]
  },
  {
   "cell_type": "code",
   "execution_count": 14,
   "metadata": {},
   "outputs": [
    {
     "data": {
      "text/html": [
       "\n",
       "\n",
       "    <div class=\"bk-root\">\n",
       "        <div class=\"bk-plotdiv\" id=\"7b82ef8d-8c7c-4934-8518-d82308f7d37b\"></div>\n",
       "    </div>\n",
       "<script type=\"text/javascript\">\n",
       "  \n",
       "  (function(global) {\n",
       "    function now() {\n",
       "      return new Date();\n",
       "    }\n",
       "  \n",
       "    var force = false;\n",
       "  \n",
       "    if (typeof (window._bokeh_onload_callbacks) === \"undefined\" || force === true) {\n",
       "      window._bokeh_onload_callbacks = [];\n",
       "      window._bokeh_is_loading = undefined;\n",
       "    }\n",
       "  \n",
       "  \n",
       "    \n",
       "    if (typeof (window._bokeh_timeout) === \"undefined\" || force === true) {\n",
       "      window._bokeh_timeout = Date.now() + 0;\n",
       "      window._bokeh_failed_load = false;\n",
       "    }\n",
       "  \n",
       "    var NB_LOAD_WARNING = {'data': {'text/html':\n",
       "       \"<div style='background-color: #fdd'>\\n\"+\n",
       "       \"<p>\\n\"+\n",
       "       \"BokehJS does not appear to have successfully loaded. If loading BokehJS from CDN, this \\n\"+\n",
       "       \"may be due to a slow or bad network connection. Possible fixes:\\n\"+\n",
       "       \"</p>\\n\"+\n",
       "       \"<ul>\\n\"+\n",
       "       \"<li>re-rerun `output_notebook()` to attempt to load from CDN again, or</li>\\n\"+\n",
       "       \"<li>use INLINE resources instead, as so:</li>\\n\"+\n",
       "       \"</ul>\\n\"+\n",
       "       \"<code>\\n\"+\n",
       "       \"from bokeh.resources import INLINE\\n\"+\n",
       "       \"output_notebook(resources=INLINE)\\n\"+\n",
       "       \"</code>\\n\"+\n",
       "       \"</div>\"}};\n",
       "  \n",
       "    function display_loaded() {\n",
       "      if (window.Bokeh !== undefined) {\n",
       "        var el = document.getElementById(\"7b82ef8d-8c7c-4934-8518-d82308f7d37b\");\n",
       "        el.textContent = \"BokehJS \" + Bokeh.version + \" successfully loaded.\";\n",
       "      } else if (Date.now() < window._bokeh_timeout) {\n",
       "        setTimeout(display_loaded, 100)\n",
       "      }\n",
       "    }if ((window.Jupyter !== undefined) && Jupyter.notebook.kernel) {\n",
       "      comm_manager = Jupyter.notebook.kernel.comm_manager\n",
       "      comm_manager.register_target(\"ae61a7c0-72b6-4c8c-abd9-ee40be65f568\", function () {});\n",
       "    }\n",
       "  \n",
       "    function run_callbacks() {\n",
       "      try {\n",
       "        window._bokeh_onload_callbacks.forEach(function(callback) { callback() });\n",
       "      }\n",
       "      finally {\n",
       "        delete window._bokeh_onload_callbacks\n",
       "      }\n",
       "      console.info(\"Bokeh: all callbacks have finished\");\n",
       "    }\n",
       "  \n",
       "    function load_libs(js_urls, callback) {\n",
       "      window._bokeh_onload_callbacks.push(callback);\n",
       "      if (window._bokeh_is_loading > 0) {\n",
       "        console.log(\"Bokeh: BokehJS is being loaded, scheduling callback at\", now());\n",
       "        return null;\n",
       "      }\n",
       "      if (js_urls == null || js_urls.length === 0) {\n",
       "        run_callbacks();\n",
       "        return null;\n",
       "      }\n",
       "      console.log(\"Bokeh: BokehJS not loaded, scheduling load and callback at\", now());\n",
       "      window._bokeh_is_loading = js_urls.length;\n",
       "      for (var i = 0; i < js_urls.length; i++) {\n",
       "        var url = js_urls[i];\n",
       "        var s = document.createElement('script');\n",
       "        s.src = url;\n",
       "        s.async = false;\n",
       "        s.onreadystatechange = s.onload = function() {\n",
       "          window._bokeh_is_loading--;\n",
       "          if (window._bokeh_is_loading === 0) {\n",
       "            console.log(\"Bokeh: all BokehJS libraries loaded\");\n",
       "            run_callbacks()\n",
       "          }\n",
       "        };\n",
       "        s.onerror = function() {\n",
       "          console.warn(\"failed to load library \" + url);\n",
       "        };\n",
       "        console.log(\"Bokeh: injecting script tag for BokehJS library: \", url);\n",
       "        document.getElementsByTagName(\"head\")[0].appendChild(s);\n",
       "      }\n",
       "    };var element = document.getElementById(\"7b82ef8d-8c7c-4934-8518-d82308f7d37b\");\n",
       "    if (element == null) {\n",
       "      console.log(\"Bokeh: ERROR: autoload.js configured with elementid '7b82ef8d-8c7c-4934-8518-d82308f7d37b' but no matching script tag was found. \")\n",
       "      return false;\n",
       "    }\n",
       "  \n",
       "    var js_urls = [];\n",
       "  \n",
       "    var inline_js = [\n",
       "      function(Bokeh) {\n",
       "        (function() {\n",
       "          var fn = function() {\n",
       "            var docs_json = {\"3f700391-ef6e-4d8e-b5e1-6062d7a21090\":{\"roots\":{\"references\":[{\"attributes\":{\"below\":[{\"id\":\"be4cc802-b2cd-41b7-bffb-a0f35ec27ae3\",\"type\":\"LinearAxis\"}],\"left\":[{\"id\":\"3d40a926-3870-4d1a-8f83-6e09d807dd5a\",\"type\":\"LinearAxis\"}],\"plot_height\":400,\"plot_width\":400,\"renderers\":[{\"id\":\"be4cc802-b2cd-41b7-bffb-a0f35ec27ae3\",\"type\":\"LinearAxis\"},{\"id\":\"2265a6f9-f012-4c33-ac1c-ae0672d81489\",\"type\":\"Grid\"},{\"id\":\"3d40a926-3870-4d1a-8f83-6e09d807dd5a\",\"type\":\"LinearAxis\"},{\"id\":\"4e323fa3-c667-4751-a2df-6ddd796b8a5c\",\"type\":\"Grid\"},{\"id\":\"97f6965a-15de-4f8f-be89-11b8df5854ab\",\"type\":\"BoxAnnotation\"},{\"id\":\"cbacb313-cd64-4105-8fd8-1ff5a55480e6\",\"type\":\"GlyphRenderer\"}],\"title\":{\"id\":\"13918114-6392-4048-8ddc-199fe8f62801\",\"type\":\"Title\"},\"tool_events\":{\"id\":\"16423ba7-be6f-46cb-89bc-60fe215ab58e\",\"type\":\"ToolEvents\"},\"toolbar\":{\"id\":\"709d11c2-8832-462e-b629-665af71e1bfe\",\"type\":\"Toolbar\"},\"x_range\":{\"id\":\"da2a93c3-9c47-4474-b17e-b1a4c87aa770\",\"type\":\"DataRange1d\"},\"x_scale\":{\"id\":\"9b8db46f-d0da-47be-8d6e-9c68933072e6\",\"type\":\"LinearScale\"},\"y_range\":{\"id\":\"8c4476ac-a34b-4aad-a020-c635476883a4\",\"type\":\"DataRange1d\"},\"y_scale\":{\"id\":\"49d0a268-fabc-408f-830e-95da40291921\",\"type\":\"LinearScale\"}},\"id\":\"a2626097-1cdd-4927-99a7-9ed6e48abda0\",\"subtype\":\"Figure\",\"type\":\"Plot\"},{\"attributes\":{},\"id\":\"fe355bd0-2d43-4aca-b541-6a1502430a4d\",\"type\":\"BasicTickFormatter\"},{\"attributes\":{},\"id\":\"ff4d29a0-fb24-4287-bfbe-6fb00c566cf5\",\"type\":\"BasicTickFormatter\"},{\"attributes\":{\"plot\":{\"id\":\"a2626097-1cdd-4927-99a7-9ed6e48abda0\",\"subtype\":\"Figure\",\"type\":\"Plot\"}},\"id\":\"89110e73-9801-4423-807f-2f646a6203d1\",\"type\":\"SaveTool\"},{\"attributes\":{\"plot\":{\"id\":\"a2626097-1cdd-4927-99a7-9ed6e48abda0\",\"subtype\":\"Figure\",\"type\":\"Plot\"}},\"id\":\"87791672-5ac8-4d06-83c3-176a25bfb9dd\",\"type\":\"ResetTool\"},{\"attributes\":{\"plot\":null,\"text\":\"histogram of difference of means 95% HDI\"},\"id\":\"13918114-6392-4048-8ddc-199fe8f62801\",\"type\":\"Title\"},{\"attributes\":{\"formatter\":{\"id\":\"fe355bd0-2d43-4aca-b541-6a1502430a4d\",\"type\":\"BasicTickFormatter\"},\"plot\":{\"id\":\"a2626097-1cdd-4927-99a7-9ed6e48abda0\",\"subtype\":\"Figure\",\"type\":\"Plot\"},\"ticker\":{\"id\":\"9f5f8f47-6061-45d5-ba2a-105727ca34b3\",\"type\":\"BasicTicker\"}},\"id\":\"be4cc802-b2cd-41b7-bffb-a0f35ec27ae3\",\"type\":\"LinearAxis\"},{\"attributes\":{\"plot\":{\"id\":\"a2626097-1cdd-4927-99a7-9ed6e48abda0\",\"subtype\":\"Figure\",\"type\":\"Plot\"}},\"id\":\"777949f6-6b9d-4988-9648-c69c61092958\",\"type\":\"PanTool\"},{\"attributes\":{\"formatter\":{\"id\":\"ff4d29a0-fb24-4287-bfbe-6fb00c566cf5\",\"type\":\"BasicTickFormatter\"},\"plot\":{\"id\":\"a2626097-1cdd-4927-99a7-9ed6e48abda0\",\"subtype\":\"Figure\",\"type\":\"Plot\"},\"ticker\":{\"id\":\"b70f9276-4e72-41f3-bb21-0a92c2439c52\",\"type\":\"BasicTicker\"}},\"id\":\"3d40a926-3870-4d1a-8f83-6e09d807dd5a\",\"type\":\"LinearAxis\"},{\"attributes\":{\"overlay\":{\"id\":\"97f6965a-15de-4f8f-be89-11b8df5854ab\",\"type\":\"BoxAnnotation\"},\"plot\":{\"id\":\"a2626097-1cdd-4927-99a7-9ed6e48abda0\",\"subtype\":\"Figure\",\"type\":\"Plot\"}},\"id\":\"140ebeb1-4d2c-455f-aab9-5e88460f538b\",\"type\":\"BoxZoomTool\"},{\"attributes\":{\"callback\":null,\"column_names\":[\"right\",\"top\",\"left\"],\"data\":{\"left\":{\"__ndarray__\":\"4AKMMhJ497/O3OdaOE7zv3hthwa9SO6/VCE/Vwn15b9gqu1Pq0LbvzAkuuKHNsW/wBjOtI0wuD94HsTLirPWP2BbKhV5reM/hKdyxCwB7D8=\",\"dtype\":\"float64\",\"shape\":[10]},\"right\":{\"__ndarray__\":\"ztznWjhO8794bYcGvUjuv1QhP1cJ9eW/YKrtT6tC278wJLrihzbFv8AYzrSNMLg/eB7Ey4qz1j9gWyoVea3jP4SncsQsAew/1HndOXAq8j8=\",\"dtype\":\"float64\",\"shape\":[10]},\"top\":[4,0,3,2,9,7,10,7,4,4]}},\"id\":\"7ab956fa-f42f-4242-bba5-3da9ada90b3b\",\"type\":\"ColumnDataSource\"},{\"attributes\":{\"callback\":null},\"id\":\"8c4476ac-a34b-4aad-a020-c635476883a4\",\"type\":\"DataRange1d\"},{\"attributes\":{\"data_source\":{\"id\":\"7ab956fa-f42f-4242-bba5-3da9ada90b3b\",\"type\":\"ColumnDataSource\"},\"glyph\":{\"id\":\"dc4ebd46-ea95-45f5-a66c-64ebebb21290\",\"type\":\"Quad\"},\"hover_glyph\":null,\"muted_glyph\":null,\"nonselection_glyph\":{\"id\":\"c165aff5-e7d4-4c1f-947a-68320461da61\",\"type\":\"Quad\"},\"selection_glyph\":null},\"id\":\"cbacb313-cd64-4105-8fd8-1ff5a55480e6\",\"type\":\"GlyphRenderer\"},{\"attributes\":{\"plot\":{\"id\":\"a2626097-1cdd-4927-99a7-9ed6e48abda0\",\"subtype\":\"Figure\",\"type\":\"Plot\"}},\"id\":\"916e13a3-0ac2-45a4-a043-04f3f2dcbcbb\",\"type\":\"HelpTool\"},{\"attributes\":{\"plot\":{\"id\":\"a2626097-1cdd-4927-99a7-9ed6e48abda0\",\"subtype\":\"Figure\",\"type\":\"Plot\"},\"ticker\":{\"id\":\"9f5f8f47-6061-45d5-ba2a-105727ca34b3\",\"type\":\"BasicTicker\"}},\"id\":\"2265a6f9-f012-4c33-ac1c-ae0672d81489\",\"type\":\"Grid\"},{\"attributes\":{},\"id\":\"16423ba7-be6f-46cb-89bc-60fe215ab58e\",\"type\":\"ToolEvents\"},{\"attributes\":{},\"id\":\"b70f9276-4e72-41f3-bb21-0a92c2439c52\",\"type\":\"BasicTicker\"},{\"attributes\":{\"bottom\":{\"value\":0},\"fill_color\":{\"value\":\"#7cb5ec\"},\"left\":{\"field\":\"left\"},\"line_color\":{\"value\":\"#033649\"},\"right\":{\"field\":\"right\"},\"top\":{\"field\":\"top\"}},\"id\":\"dc4ebd46-ea95-45f5-a66c-64ebebb21290\",\"type\":\"Quad\"},{\"attributes\":{\"dimension\":1,\"plot\":{\"id\":\"a2626097-1cdd-4927-99a7-9ed6e48abda0\",\"subtype\":\"Figure\",\"type\":\"Plot\"},\"ticker\":{\"id\":\"b70f9276-4e72-41f3-bb21-0a92c2439c52\",\"type\":\"BasicTicker\"}},\"id\":\"4e323fa3-c667-4751-a2df-6ddd796b8a5c\",\"type\":\"Grid\"},{\"attributes\":{\"plot\":{\"id\":\"a2626097-1cdd-4927-99a7-9ed6e48abda0\",\"subtype\":\"Figure\",\"type\":\"Plot\"}},\"id\":\"94a7bc23-1824-46f3-918c-7d946941278f\",\"type\":\"WheelZoomTool\"},{\"attributes\":{\"active_drag\":\"auto\",\"active_inspect\":\"auto\",\"active_scroll\":\"auto\",\"active_tap\":\"auto\",\"tools\":[{\"id\":\"777949f6-6b9d-4988-9648-c69c61092958\",\"type\":\"PanTool\"},{\"id\":\"94a7bc23-1824-46f3-918c-7d946941278f\",\"type\":\"WheelZoomTool\"},{\"id\":\"140ebeb1-4d2c-455f-aab9-5e88460f538b\",\"type\":\"BoxZoomTool\"},{\"id\":\"89110e73-9801-4423-807f-2f646a6203d1\",\"type\":\"SaveTool\"},{\"id\":\"87791672-5ac8-4d06-83c3-176a25bfb9dd\",\"type\":\"ResetTool\"},{\"id\":\"916e13a3-0ac2-45a4-a043-04f3f2dcbcbb\",\"type\":\"HelpTool\"}]},\"id\":\"709d11c2-8832-462e-b629-665af71e1bfe\",\"type\":\"Toolbar\"},{\"attributes\":{\"bottom\":{\"value\":0},\"fill_alpha\":{\"value\":0.1},\"fill_color\":{\"value\":\"#1f77b4\"},\"left\":{\"field\":\"left\"},\"line_alpha\":{\"value\":0.1},\"line_color\":{\"value\":\"#1f77b4\"},\"right\":{\"field\":\"right\"},\"top\":{\"field\":\"top\"}},\"id\":\"c165aff5-e7d4-4c1f-947a-68320461da61\",\"type\":\"Quad\"},{\"attributes\":{},\"id\":\"9b8db46f-d0da-47be-8d6e-9c68933072e6\",\"type\":\"LinearScale\"},{\"attributes\":{},\"id\":\"49d0a268-fabc-408f-830e-95da40291921\",\"type\":\"LinearScale\"},{\"attributes\":{\"bottom_units\":\"screen\",\"fill_alpha\":{\"value\":0.5},\"fill_color\":{\"value\":\"lightgrey\"},\"left_units\":\"screen\",\"level\":\"overlay\",\"line_alpha\":{\"value\":1.0},\"line_color\":{\"value\":\"black\"},\"line_dash\":[4,4],\"line_width\":{\"value\":2},\"plot\":null,\"render_mode\":\"css\",\"right_units\":\"screen\",\"top_units\":\"screen\"},\"id\":\"97f6965a-15de-4f8f-be89-11b8df5854ab\",\"type\":\"BoxAnnotation\"},{\"attributes\":{},\"id\":\"9f5f8f47-6061-45d5-ba2a-105727ca34b3\",\"type\":\"BasicTicker\"},{\"attributes\":{\"callback\":null},\"id\":\"da2a93c3-9c47-4474-b17e-b1a4c87aa770\",\"type\":\"DataRange1d\"}],\"root_ids\":[\"a2626097-1cdd-4927-99a7-9ed6e48abda0\"]},\"title\":\"Bokeh Application\",\"version\":\"0.12.6\"}};\n",
       "            var render_items = [{\"docid\":\"3f700391-ef6e-4d8e-b5e1-6062d7a21090\",\"elementid\":\"7b82ef8d-8c7c-4934-8518-d82308f7d37b\",\"modelid\":\"a2626097-1cdd-4927-99a7-9ed6e48abda0\",\"notebook_comms_target\":\"ae61a7c0-72b6-4c8c-abd9-ee40be65f568\"}];\n",
       "            \n",
       "            Bokeh.embed.embed_items(docs_json, render_items);\n",
       "          };\n",
       "          if (document.readyState != \"loading\") fn();\n",
       "          else document.addEventListener(\"DOMContentLoaded\", fn);\n",
       "        })();\n",
       "      },\n",
       "      function(Bokeh) {\n",
       "      }\n",
       "    ];\n",
       "  \n",
       "    function run_inline_js() {\n",
       "      \n",
       "      if ((window.Bokeh !== undefined) || (force === true)) {\n",
       "        for (var i = 0; i < inline_js.length; i++) {\n",
       "          inline_js[i](window.Bokeh);\n",
       "        }if (force === true) {\n",
       "          display_loaded();\n",
       "        }} else if (Date.now() < window._bokeh_timeout) {\n",
       "        setTimeout(run_inline_js, 100);\n",
       "      } else if (!window._bokeh_failed_load) {\n",
       "        console.log(\"Bokeh: BokehJS failed to load within specified timeout.\");\n",
       "        window._bokeh_failed_load = true;\n",
       "      } else if (force !== true) {\n",
       "        var cell = $(document.getElementById(\"7b82ef8d-8c7c-4934-8518-d82308f7d37b\")).parents('.cell').data().cell;\n",
       "        cell.output_area.append_execute_result(NB_LOAD_WARNING)\n",
       "      }\n",
       "  \n",
       "    }\n",
       "  \n",
       "    if (window._bokeh_is_loading === 0) {\n",
       "      console.log(\"Bokeh: BokehJS loaded, going straight to plotting\");\n",
       "      run_inline_js();\n",
       "    } else {\n",
       "      load_libs(js_urls, function() {\n",
       "        console.log(\"Bokeh: BokehJS plotting callback run at\", now());\n",
       "        run_inline_js();\n",
       "      });\n",
       "    }\n",
       "  }(this));\n",
       "</script>"
      ]
     },
     "metadata": {},
     "output_type": "display_data"
    },
    {
     "data": {
      "text/html": [
       "<p><code>&lt;Bokeh Notebook handle for <strong>In[14]</strong>&gt;</code></p>"
      ],
      "text/plain": [
       "<bokeh.io._CommsHandle at 0x4bd4160>"
      ]
     },
     "execution_count": 14,
     "metadata": {},
     "output_type": "execute_result"
    }
   ],
   "source": [
    "def update_plot(v=.2, mean=4.5):\n",
    "    difference= differenceOfmeans(humanMean=4.5, variance=v, sampleSize =50)\n",
    "    diffSource.data=dict(difference=difference)\n",
    "    p1=make_plot(diffSource)\n",
    "    push_notebook()\n",
    "    \n",
    "show(p1, notebook_handle=True)"
   ]
  },
  {
   "cell_type": "code",
   "execution_count": 15,
   "metadata": {},
   "outputs": [
    {
     "data": {
      "application/vnd.jupyter.widget-view+json": {
       "model_id": "7baf2fc07e3840ab85f44071b6bff3bf"
      }
     },
     "metadata": {},
     "output_type": "display_data"
    },
    {
     "data": {
      "text/plain": [
       "<function __main__.update_plot>"
      ]
     },
     "execution_count": 15,
     "metadata": {},
     "output_type": "execute_result"
    }
   ],
   "source": [
    "from ipywidgets import interact\n",
    "interact(update_plot, v=(0,2,.05), m=(1,10,.25))\n",
    "    \n",
    "#inputs = widgetbox( varianceSlider, button)\n",
    "#show(row(p1,inputs))\n"
   ]
  },
  {
   "cell_type": "code",
   "execution_count": null,
   "metadata": {
    "collapsed": true
   },
   "outputs": [],
   "source": []
  },
  {
   "cell_type": "code",
   "execution_count": null,
   "metadata": {
    "collapsed": true
   },
   "outputs": [],
   "source": []
  }
 ],
 "metadata": {
  "kernelspec": {
   "display_name": "Python 2",
   "language": "python",
   "name": "python2"
  },
  "language_info": {
   "codemirror_mode": {
    "name": "ipython",
    "version": 2
   },
   "file_extension": ".py",
   "mimetype": "text/x-python",
   "name": "python",
   "nbconvert_exporter": "python",
   "pygments_lexer": "ipython2",
   "version": "2.7.13"
  }
 },
 "nbformat": 4,
 "nbformat_minor": 2
}
