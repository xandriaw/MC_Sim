{
 "cells": [
  {
   "cell_type": "code",
   "execution_count": 14,
   "metadata": {},
   "outputs": [],
   "source": [
    "import numpy as np\n",
    "from bokeh.plotting import figure, show, output_notebook\n",
    "from bokeh.models import Span, ColumnDataSource\n",
    "from bokeh.models.widgets import Slider, TextInput\n",
    "from bokeh.io import push_notebook\n",
    "from bokeh.layouts import row, widgetbox"
   ]
  },
  {
   "cell_type": "code",
   "execution_count": 15,
   "metadata": {
    "collapsed": true
   },
   "outputs": [],
   "source": [
    "#ROPE is the Region of practical equivalence. \n",
    "#This is often [-0.1, 0.1] or something like this.\n",
    "execfile('C:\\\\Users\\\\xandr\\\\OneDrive\\\\Documents\\\\GitHub\\\\MC_Sim\\\\functionizing_fake_data.py')\n",
    "\n",
    "credMass=0.95\n",
    "ROPESize=0.5 "
   ]
  },
  {
   "cell_type": "code",
   "execution_count": 16,
   "metadata": {},
   "outputs": [
    {
     "data": {
      "text/html": [
       "\n",
       "    <div class=\"bk-root\">\n",
       "        <a href=\"http://bokeh.pydata.org\" target=\"_blank\" class=\"bk-logo bk-logo-small bk-logo-notebook\"></a>\n",
       "        <span id=\"4554703a-a289-4953-b77d-431c43f11b3e\">Loading BokehJS ...</span>\n",
       "    </div>"
      ]
     },
     "metadata": {},
     "output_type": "display_data"
    },
    {
     "data": {
      "application/javascript": [
       "\n",
       "(function(global) {\n",
       "  function now() {\n",
       "    return new Date();\n",
       "  }\n",
       "\n",
       "  var force = true;\n",
       "\n",
       "  if (typeof (window._bokeh_onload_callbacks) === \"undefined\" || force === true) {\n",
       "    window._bokeh_onload_callbacks = [];\n",
       "    window._bokeh_is_loading = undefined;\n",
       "  }\n",
       "\n",
       "\n",
       "  \n",
       "  if (typeof (window._bokeh_timeout) === \"undefined\" || force === true) {\n",
       "    window._bokeh_timeout = Date.now() + 5000;\n",
       "    window._bokeh_failed_load = false;\n",
       "  }\n",
       "\n",
       "  var NB_LOAD_WARNING = {'data': {'text/html':\n",
       "     \"<div style='background-color: #fdd'>\\n\"+\n",
       "     \"<p>\\n\"+\n",
       "     \"BokehJS does not appear to have successfully loaded. If loading BokehJS from CDN, this \\n\"+\n",
       "     \"may be due to a slow or bad network connection. Possible fixes:\\n\"+\n",
       "     \"</p>\\n\"+\n",
       "     \"<ul>\\n\"+\n",
       "     \"<li>re-rerun `output_notebook()` to attempt to load from CDN again, or</li>\\n\"+\n",
       "     \"<li>use INLINE resources instead, as so:</li>\\n\"+\n",
       "     \"</ul>\\n\"+\n",
       "     \"<code>\\n\"+\n",
       "     \"from bokeh.resources import INLINE\\n\"+\n",
       "     \"output_notebook(resources=INLINE)\\n\"+\n",
       "     \"</code>\\n\"+\n",
       "     \"</div>\"}};\n",
       "\n",
       "  function display_loaded() {\n",
       "    if (window.Bokeh !== undefined) {\n",
       "      var el = document.getElementById(\"4554703a-a289-4953-b77d-431c43f11b3e\");\n",
       "      el.textContent = \"BokehJS \" + Bokeh.version + \" successfully loaded.\";\n",
       "    } else if (Date.now() < window._bokeh_timeout) {\n",
       "      setTimeout(display_loaded, 100)\n",
       "    }\n",
       "  }\n",
       "\n",
       "  function run_callbacks() {\n",
       "    try {\n",
       "      window._bokeh_onload_callbacks.forEach(function(callback) { callback() });\n",
       "    }\n",
       "    finally {\n",
       "      delete window._bokeh_onload_callbacks\n",
       "    }\n",
       "    console.info(\"Bokeh: all callbacks have finished\");\n",
       "  }\n",
       "\n",
       "  function load_libs(js_urls, callback) {\n",
       "    window._bokeh_onload_callbacks.push(callback);\n",
       "    if (window._bokeh_is_loading > 0) {\n",
       "      console.log(\"Bokeh: BokehJS is being loaded, scheduling callback at\", now());\n",
       "      return null;\n",
       "    }\n",
       "    if (js_urls == null || js_urls.length === 0) {\n",
       "      run_callbacks();\n",
       "      return null;\n",
       "    }\n",
       "    console.log(\"Bokeh: BokehJS not loaded, scheduling load and callback at\", now());\n",
       "    window._bokeh_is_loading = js_urls.length;\n",
       "    for (var i = 0; i < js_urls.length; i++) {\n",
       "      var url = js_urls[i];\n",
       "      var s = document.createElement('script');\n",
       "      s.src = url;\n",
       "      s.async = false;\n",
       "      s.onreadystatechange = s.onload = function() {\n",
       "        window._bokeh_is_loading--;\n",
       "        if (window._bokeh_is_loading === 0) {\n",
       "          console.log(\"Bokeh: all BokehJS libraries loaded\");\n",
       "          run_callbacks()\n",
       "        }\n",
       "      };\n",
       "      s.onerror = function() {\n",
       "        console.warn(\"failed to load library \" + url);\n",
       "      };\n",
       "      console.log(\"Bokeh: injecting script tag for BokehJS library: \", url);\n",
       "      document.getElementsByTagName(\"head\")[0].appendChild(s);\n",
       "    }\n",
       "  };var element = document.getElementById(\"4554703a-a289-4953-b77d-431c43f11b3e\");\n",
       "  if (element == null) {\n",
       "    console.log(\"Bokeh: ERROR: autoload.js configured with elementid '4554703a-a289-4953-b77d-431c43f11b3e' but no matching script tag was found. \")\n",
       "    return false;\n",
       "  }\n",
       "\n",
       "  var js_urls = [\"https://cdn.pydata.org/bokeh/release/bokeh-0.12.6.min.js\", \"https://cdn.pydata.org/bokeh/release/bokeh-widgets-0.12.6.min.js\"];\n",
       "\n",
       "  var inline_js = [\n",
       "    function(Bokeh) {\n",
       "      Bokeh.set_log_level(\"info\");\n",
       "    },\n",
       "    \n",
       "    function(Bokeh) {\n",
       "      \n",
       "    },\n",
       "    \n",
       "    function(Bokeh) {\n",
       "      \n",
       "      document.getElementById(\"4554703a-a289-4953-b77d-431c43f11b3e\").textContent = \"BokehJS is loading...\";\n",
       "    },\n",
       "    function(Bokeh) {\n",
       "      console.log(\"Bokeh: injecting CSS: https://cdn.pydata.org/bokeh/release/bokeh-0.12.6.min.css\");\n",
       "      Bokeh.embed.inject_css(\"https://cdn.pydata.org/bokeh/release/bokeh-0.12.6.min.css\");\n",
       "      console.log(\"Bokeh: injecting CSS: https://cdn.pydata.org/bokeh/release/bokeh-widgets-0.12.6.min.css\");\n",
       "      Bokeh.embed.inject_css(\"https://cdn.pydata.org/bokeh/release/bokeh-widgets-0.12.6.min.css\");\n",
       "    }\n",
       "  ];\n",
       "\n",
       "  function run_inline_js() {\n",
       "    \n",
       "    if ((window.Bokeh !== undefined) || (force === true)) {\n",
       "      for (var i = 0; i < inline_js.length; i++) {\n",
       "        inline_js[i](window.Bokeh);\n",
       "      }if (force === true) {\n",
       "        display_loaded();\n",
       "      }} else if (Date.now() < window._bokeh_timeout) {\n",
       "      setTimeout(run_inline_js, 100);\n",
       "    } else if (!window._bokeh_failed_load) {\n",
       "      console.log(\"Bokeh: BokehJS failed to load within specified timeout.\");\n",
       "      window._bokeh_failed_load = true;\n",
       "    } else if (force !== true) {\n",
       "      var cell = $(document.getElementById(\"4554703a-a289-4953-b77d-431c43f11b3e\")).parents('.cell').data().cell;\n",
       "      cell.output_area.append_execute_result(NB_LOAD_WARNING)\n",
       "    }\n",
       "\n",
       "  }\n",
       "\n",
       "  if (window._bokeh_is_loading === 0) {\n",
       "    console.log(\"Bokeh: BokehJS loaded, going straight to plotting\");\n",
       "    run_inline_js();\n",
       "  } else {\n",
       "    load_libs(js_urls, function() {\n",
       "      console.log(\"Bokeh: BokehJS plotting callback run at\", now());\n",
       "      run_inline_js();\n",
       "    });\n",
       "  }\n",
       "}(this));"
      ]
     },
     "metadata": {},
     "output_type": "display_data"
    }
   ],
   "source": [
    "output_notebook()"
   ]
  },
  {
   "cell_type": "code",
   "execution_count": 17,
   "metadata": {},
   "outputs": [
    {
     "name": "stdout",
     "output_type": "stream",
     "text": [
      "\r",
      " [-----------------100%-----------------] 50 of 50 complete in 0.0 sec"
     ]
    }
   ],
   "source": [
    "diffSource= ColumnDataSource(data=dict(difference= differenceOfmeans(humanMean=4.5, variance=0.2, sampleSize =50)))"
   ]
  },
  {
   "cell_type": "markdown",
   "metadata": {},
   "source": [
    "HighestDensityInterval: where 95% of the differences are? are they close to 0?"
   ]
  },
  {
   "cell_type": "code",
   "execution_count": 18,
   "metadata": {
    "collapsed": true
   },
   "outputs": [],
   "source": [
    "def make_plot(diffSource):\n",
    "    p1 = figure(width=400, height=400, \n",
    "           title = \"histogram of difference of means {0:.0f}% HDI\" .format(credMass*100))\n",
    "    probInROPE(diffSource.data['difference'], ROPESize=0.5 )\n",
    "    HDI= HDIofMCMC(differenceOfMeans= diffSource.data['difference'], credMass=0.95)\n",
    "    print(\"The HDI is {}\" .format(HDI))\n",
    "    hist,edges =np.histogram(diffSource.data['difference'])\n",
    "    p1.quad(top=hist, bottom=0, left=edges[:-1], right=edges[1:],\n",
    "            fill_color=\"#7cb5ec\", line_color=\"#033649\")\n",
    "    #ROPE1 = Span(location=0-ROPESize, dimension='height', line_color='red', \n",
    "    #             line_width=3)\n",
    "    #ROPE2 = Span(location=ROPESize, dimension='height', line_color='red', \n",
    "    #             line_width=3)\n",
    "    #p1.renderers.extend([ROPE1, ROPE2])\n",
    "    #p1.line(x=[HDI[0], HDI[1]], y=[3,3], line_color='black', line_width=4, legend =\"HDI\")\n",
    "    return p1"
   ]
  },
  {
   "cell_type": "code",
   "execution_count": 28,
   "metadata": {},
   "outputs": [
    {
     "name": "stdout",
     "output_type": "stream",
     "text": [
      " \n",
      "20% of our robot outputs are inside the ROPE\n",
      "The HDI is [-3.0992116468339743, 3.4192855809761955]\n"
     ]
    }
   ],
   "source": [
    "p1=make_plot(diffSource)"
   ]
  },
  {
   "cell_type": "code",
   "execution_count": 20,
   "metadata": {},
   "outputs": [
    {
     "ename": "NameError",
     "evalue": "name 'CustomJS' is not defined",
     "output_type": "error",
     "traceback": [
      "\u001b[0;31m---------------------------------------------------------------------------\u001b[0m",
      "\u001b[0;31mNameError\u001b[0m                                 Traceback (most recent call last)",
      "\u001b[0;32m<ipython-input-20-27cd3f86127c>\u001b[0m in \u001b[0;36m<module>\u001b[0;34m()\u001b[0m\n\u001b[0;32m----> 1\u001b[0;31m callback= CustomJS(args=dict(source = diffSource), code=\"\"\"\n\u001b[0m\u001b[1;32m      2\u001b[0m     \u001b[0mvar\u001b[0m \u001b[0mdata\u001b[0m \u001b[1;33m=\u001b[0m \u001b[0msource\u001b[0m\u001b[1;33m.\u001b[0m\u001b[0mget\u001b[0m\u001b[1;33m(\u001b[0m\u001b[1;34m'data'\u001b[0m\u001b[1;33m)\u001b[0m\u001b[1;33m;\u001b[0m\u001b[1;33m\u001b[0m\u001b[0m\n\u001b[1;32m      3\u001b[0m     \u001b[0mvar\u001b[0m \u001b[0mv\u001b[0m\u001b[1;33m=\u001b[0m\u001b[0mcb_obj\u001b[0m\u001b[1;33m.\u001b[0m\u001b[0mget\u001b[0m\u001b[1;33m(\u001b[0m\u001b[1;34m'value'\u001b[0m\u001b[1;33m)\u001b[0m\u001b[1;33m\u001b[0m\u001b[0m\n\u001b[1;32m      4\u001b[0m     \u001b[0mx\u001b[0m\u001b[1;33m=\u001b[0m\u001b[0mdata\u001b[0m\u001b[1;33m[\u001b[0m\u001b[1;34m'x'\u001b[0m\u001b[1;33m]\u001b[0m\u001b[1;33m\u001b[0m\u001b[0m\n\u001b[1;32m      5\u001b[0m     \u001b[0my\u001b[0m\u001b[1;33m=\u001b[0m\u001b[0mdata\u001b[0m\u001b[1;33m[\u001b[0m\u001b[1;34m'y'\u001b[0m\u001b[1;33m]\u001b[0m\u001b[1;33m\u001b[0m\u001b[0m\n",
      "\u001b[0;31mNameError\u001b[0m: name 'CustomJS' is not defined"
     ]
    }
   ],
   "source": [
    "callback= CustomJS(args=dict(source = diffSource), code=\"\"\"\n",
    "    var data = source.get('data');\n",
    "    var v=cb_obj.get('value')\n",
    "    x=data['x']\n",
    "    y=data['y']\n",
    "    for (i=0; i<x.length; i++){\n",
    "    y[i]=Math.pow(x[i],f)\n",
    "    }\n",
    "    source.trigger('change');\n",
    "    \"\"\")"
   ]
  },
  {
   "cell_type": "code",
   "execution_count": 21,
   "metadata": {},
   "outputs": [],
   "source": [
    "\n",
    "#sampleSlider = Slider(title=\"Sample Size\", value=50, start=10, end=10000, step=10)\n",
    "varianceSlider = Slider(title=\"Variance\", value=0.2, start=0.05, end=2, step=0.05)\n",
    "#humanMeanSlider= Slider(title=\"Human Mean NIIRS\", value=4.5, start=1, end=10, step=0.1)\n",
    "#ROPESlider= Slider(title= \"ROPE Size (Region of Practical Equivalence)\", value = 0.5, start= 0.05, end = 1, step=0.05)\n",
    "#credibleRegionSlider= Slider(title = \"Credible Mass\", value = 0.95, start = 0.75, end = 0.995, step=0.05)\n",
    "#button = Button(label='press me') "
   ]
  },
  {
   "cell_type": "code",
   "execution_count": 29,
   "metadata": {},
   "outputs": [
    {
     "data": {
      "text/html": [
       "\n",
       "\n",
       "    <div class=\"bk-root\">\n",
       "        <div class=\"bk-plotdiv\" id=\"123df3eb-2154-44e4-9d4e-f390eeb21ee2\"></div>\n",
       "    </div>\n",
       "<script type=\"text/javascript\">\n",
       "  \n",
       "  (function(global) {\n",
       "    function now() {\n",
       "      return new Date();\n",
       "    }\n",
       "  \n",
       "    var force = false;\n",
       "  \n",
       "    if (typeof (window._bokeh_onload_callbacks) === \"undefined\" || force === true) {\n",
       "      window._bokeh_onload_callbacks = [];\n",
       "      window._bokeh_is_loading = undefined;\n",
       "    }\n",
       "  \n",
       "  \n",
       "    \n",
       "    if (typeof (window._bokeh_timeout) === \"undefined\" || force === true) {\n",
       "      window._bokeh_timeout = Date.now() + 0;\n",
       "      window._bokeh_failed_load = false;\n",
       "    }\n",
       "  \n",
       "    var NB_LOAD_WARNING = {'data': {'text/html':\n",
       "       \"<div style='background-color: #fdd'>\\n\"+\n",
       "       \"<p>\\n\"+\n",
       "       \"BokehJS does not appear to have successfully loaded. If loading BokehJS from CDN, this \\n\"+\n",
       "       \"may be due to a slow or bad network connection. Possible fixes:\\n\"+\n",
       "       \"</p>\\n\"+\n",
       "       \"<ul>\\n\"+\n",
       "       \"<li>re-rerun `output_notebook()` to attempt to load from CDN again, or</li>\\n\"+\n",
       "       \"<li>use INLINE resources instead, as so:</li>\\n\"+\n",
       "       \"</ul>\\n\"+\n",
       "       \"<code>\\n\"+\n",
       "       \"from bokeh.resources import INLINE\\n\"+\n",
       "       \"output_notebook(resources=INLINE)\\n\"+\n",
       "       \"</code>\\n\"+\n",
       "       \"</div>\"}};\n",
       "  \n",
       "    function display_loaded() {\n",
       "      if (window.Bokeh !== undefined) {\n",
       "        var el = document.getElementById(\"123df3eb-2154-44e4-9d4e-f390eeb21ee2\");\n",
       "        el.textContent = \"BokehJS \" + Bokeh.version + \" successfully loaded.\";\n",
       "      } else if (Date.now() < window._bokeh_timeout) {\n",
       "        setTimeout(display_loaded, 100)\n",
       "      }\n",
       "    }if ((window.Jupyter !== undefined) && Jupyter.notebook.kernel) {\n",
       "      comm_manager = Jupyter.notebook.kernel.comm_manager\n",
       "      comm_manager.register_target(\"18e9b076-f4f4-4db6-b03e-d8423efe7efb\", function () {});\n",
       "    }\n",
       "  \n",
       "    function run_callbacks() {\n",
       "      try {\n",
       "        window._bokeh_onload_callbacks.forEach(function(callback) { callback() });\n",
       "      }\n",
       "      finally {\n",
       "        delete window._bokeh_onload_callbacks\n",
       "      }\n",
       "      console.info(\"Bokeh: all callbacks have finished\");\n",
       "    }\n",
       "  \n",
       "    function load_libs(js_urls, callback) {\n",
       "      window._bokeh_onload_callbacks.push(callback);\n",
       "      if (window._bokeh_is_loading > 0) {\n",
       "        console.log(\"Bokeh: BokehJS is being loaded, scheduling callback at\", now());\n",
       "        return null;\n",
       "      }\n",
       "      if (js_urls == null || js_urls.length === 0) {\n",
       "        run_callbacks();\n",
       "        return null;\n",
       "      }\n",
       "      console.log(\"Bokeh: BokehJS not loaded, scheduling load and callback at\", now());\n",
       "      window._bokeh_is_loading = js_urls.length;\n",
       "      for (var i = 0; i < js_urls.length; i++) {\n",
       "        var url = js_urls[i];\n",
       "        var s = document.createElement('script');\n",
       "        s.src = url;\n",
       "        s.async = false;\n",
       "        s.onreadystatechange = s.onload = function() {\n",
       "          window._bokeh_is_loading--;\n",
       "          if (window._bokeh_is_loading === 0) {\n",
       "            console.log(\"Bokeh: all BokehJS libraries loaded\");\n",
       "            run_callbacks()\n",
       "          }\n",
       "        };\n",
       "        s.onerror = function() {\n",
       "          console.warn(\"failed to load library \" + url);\n",
       "        };\n",
       "        console.log(\"Bokeh: injecting script tag for BokehJS library: \", url);\n",
       "        document.getElementsByTagName(\"head\")[0].appendChild(s);\n",
       "      }\n",
       "    };var element = document.getElementById(\"123df3eb-2154-44e4-9d4e-f390eeb21ee2\");\n",
       "    if (element == null) {\n",
       "      console.log(\"Bokeh: ERROR: autoload.js configured with elementid '123df3eb-2154-44e4-9d4e-f390eeb21ee2' but no matching script tag was found. \")\n",
       "      return false;\n",
       "    }\n",
       "  \n",
       "    var js_urls = [];\n",
       "  \n",
       "    var inline_js = [\n",
       "      function(Bokeh) {\n",
       "        (function() {\n",
       "          var fn = function() {\n",
       "            var docs_json = {\"b43a7cf3-8a46-45f3-9b5e-cdad961cd8b7\":{\"roots\":{\"references\":[{\"attributes\":{\"formatter\":{\"id\":\"337212b2-1b3d-4429-8c68-ee0fafebc2ed\",\"type\":\"BasicTickFormatter\"},\"plot\":{\"id\":\"95b6f551-f3eb-459e-8968-84b7853ee4c6\",\"subtype\":\"Figure\",\"type\":\"Plot\"},\"ticker\":{\"id\":\"bb0267e0-a7f7-4afa-8ec1-682b2bf4f29d\",\"type\":\"BasicTicker\"}},\"id\":\"6f1b83c4-3c57-4fa3-8e2a-6c24b613ce2d\",\"type\":\"LinearAxis\"},{\"attributes\":{\"callback\":null},\"id\":\"c34f76a9-8649-490f-b001-11da24594dde\",\"type\":\"DataRange1d\"},{\"attributes\":{\"bottom\":{\"value\":0},\"fill_alpha\":{\"value\":0.1},\"fill_color\":{\"value\":\"#1f77b4\"},\"left\":{\"field\":\"left\"},\"line_alpha\":{\"value\":0.1},\"line_color\":{\"value\":\"#1f77b4\"},\"right\":{\"field\":\"right\"},\"top\":{\"field\":\"top\"}},\"id\":\"8f7dafb7-e02d-4fa1-83cd-fbe74d05845c\",\"type\":\"Quad\"},{\"attributes\":{\"plot\":{\"id\":\"95b6f551-f3eb-459e-8968-84b7853ee4c6\",\"subtype\":\"Figure\",\"type\":\"Plot\"}},\"id\":\"fb840250-3032-4659-999e-3bf664ecedf9\",\"type\":\"PanTool\"},{\"attributes\":{\"plot\":{\"id\":\"95b6f551-f3eb-459e-8968-84b7853ee4c6\",\"subtype\":\"Figure\",\"type\":\"Plot\"}},\"id\":\"50102403-7d47-4fbc-9afb-693dd2caa723\",\"type\":\"WheelZoomTool\"},{\"attributes\":{\"bottom_units\":\"screen\",\"fill_alpha\":{\"value\":0.5},\"fill_color\":{\"value\":\"lightgrey\"},\"left_units\":\"screen\",\"level\":\"overlay\",\"line_alpha\":{\"value\":1.0},\"line_color\":{\"value\":\"black\"},\"line_dash\":[4,4],\"line_width\":{\"value\":2},\"plot\":null,\"render_mode\":\"css\",\"right_units\":\"screen\",\"top_units\":\"screen\"},\"id\":\"4220f15f-7be5-4e12-9daa-550401741635\",\"type\":\"BoxAnnotation\"},{\"attributes\":{\"plot\":{\"id\":\"95b6f551-f3eb-459e-8968-84b7853ee4c6\",\"subtype\":\"Figure\",\"type\":\"Plot\"}},\"id\":\"14d5fee0-15c7-4535-a8e4-9fc98d71da87\",\"type\":\"SaveTool\"},{\"attributes\":{},\"id\":\"b47623dd-5d0c-4a92-878d-00bdb1469b82\",\"type\":\"BasicTicker\"},{\"attributes\":{\"dimension\":1,\"plot\":{\"id\":\"95b6f551-f3eb-459e-8968-84b7853ee4c6\",\"subtype\":\"Figure\",\"type\":\"Plot\"},\"ticker\":{\"id\":\"b47623dd-5d0c-4a92-878d-00bdb1469b82\",\"type\":\"BasicTicker\"}},\"id\":\"1587b8a0-4435-4115-831d-9103b8744ba6\",\"type\":\"Grid\"},{\"attributes\":{},\"id\":\"bb0267e0-a7f7-4afa-8ec1-682b2bf4f29d\",\"type\":\"BasicTicker\"},{\"attributes\":{\"overlay\":{\"id\":\"4220f15f-7be5-4e12-9daa-550401741635\",\"type\":\"BoxAnnotation\"},\"plot\":{\"id\":\"95b6f551-f3eb-459e-8968-84b7853ee4c6\",\"subtype\":\"Figure\",\"type\":\"Plot\"}},\"id\":\"b7c1536e-7c83-4464-bcb4-8eba9eb64501\",\"type\":\"BoxZoomTool\"},{\"attributes\":{\"callback\":null,\"column_names\":[\"right\",\"top\",\"left\"],\"data\":{\"left\":{\"__ndarray__\":\"znpznJ1cDMBwy9i6D2IGwBMcPtmBZwDAbNlG7+fZ9L9g9SJYmMnhv2AgH7l8gsg/iIWytNYK7j+AoY4dh/r6Px4AYnDRdwNAfK/8UV9yCUA=\",\"dtype\":\"float64\",\"shape\":[10]},\"right\":{\"__ndarray__\":\"cMvYug9iBsATHD7ZgWcAwGzZRu/n2fS/YPUiWJjJ4b9gIB+5fILIP4iFsrTWCu4/gKGOHYf6+j8eAGJw0XcDQHyv/FFfcglA2F6XM+1sD0A=\",\"dtype\":\"float64\",\"shape\":[10]},\"top\":[3,3,5,10,6,12,2,3,3,3]}},\"id\":\"be729142-a889-43e2-8503-300cc8114581\",\"type\":\"ColumnDataSource\"},{\"attributes\":{\"below\":[{\"id\":\"6f1b83c4-3c57-4fa3-8e2a-6c24b613ce2d\",\"type\":\"LinearAxis\"}],\"left\":[{\"id\":\"515980c0-9087-4758-aac7-7747272cc18d\",\"type\":\"LinearAxis\"}],\"plot_height\":400,\"plot_width\":400,\"renderers\":[{\"id\":\"6f1b83c4-3c57-4fa3-8e2a-6c24b613ce2d\",\"type\":\"LinearAxis\"},{\"id\":\"679ac90c-43a5-4729-ad1e-873ed7534c08\",\"type\":\"Grid\"},{\"id\":\"515980c0-9087-4758-aac7-7747272cc18d\",\"type\":\"LinearAxis\"},{\"id\":\"1587b8a0-4435-4115-831d-9103b8744ba6\",\"type\":\"Grid\"},{\"id\":\"4220f15f-7be5-4e12-9daa-550401741635\",\"type\":\"BoxAnnotation\"},{\"id\":\"3327cc92-5e72-4835-a9e2-cefb1f11fc14\",\"type\":\"GlyphRenderer\"}],\"title\":{\"id\":\"4435302f-314f-439c-b024-8ebf772c2822\",\"type\":\"Title\"},\"tool_events\":{\"id\":\"b4e5e7ee-cd0b-4942-bf89-b6d371eda941\",\"type\":\"ToolEvents\"},\"toolbar\":{\"id\":\"3546a1d5-a3a0-46e2-ad97-b43a653c428a\",\"type\":\"Toolbar\"},\"x_range\":{\"id\":\"c34f76a9-8649-490f-b001-11da24594dde\",\"type\":\"DataRange1d\"},\"x_scale\":{\"id\":\"26c4a9df-1c52-444a-bf85-1ddba25d4fa2\",\"type\":\"LinearScale\"},\"y_range\":{\"id\":\"67d233f5-e518-42e0-9e4f-3d60dae54ed4\",\"type\":\"DataRange1d\"},\"y_scale\":{\"id\":\"05fabb50-b22c-4bde-b4d5-23aee773d6d8\",\"type\":\"LinearScale\"}},\"id\":\"95b6f551-f3eb-459e-8968-84b7853ee4c6\",\"subtype\":\"Figure\",\"type\":\"Plot\"},{\"attributes\":{\"active_drag\":\"auto\",\"active_inspect\":\"auto\",\"active_scroll\":\"auto\",\"active_tap\":\"auto\",\"tools\":[{\"id\":\"fb840250-3032-4659-999e-3bf664ecedf9\",\"type\":\"PanTool\"},{\"id\":\"50102403-7d47-4fbc-9afb-693dd2caa723\",\"type\":\"WheelZoomTool\"},{\"id\":\"b7c1536e-7c83-4464-bcb4-8eba9eb64501\",\"type\":\"BoxZoomTool\"},{\"id\":\"14d5fee0-15c7-4535-a8e4-9fc98d71da87\",\"type\":\"SaveTool\"},{\"id\":\"3c1a91da-bd3e-406c-9bc4-4a6441a0be72\",\"type\":\"ResetTool\"},{\"id\":\"6d8461d2-06c9-48ac-9d63-cc37d5cc813f\",\"type\":\"HelpTool\"}]},\"id\":\"3546a1d5-a3a0-46e2-ad97-b43a653c428a\",\"type\":\"Toolbar\"},{\"attributes\":{\"formatter\":{\"id\":\"b3d984f3-8db8-47ff-a8c3-c258496c0fbc\",\"type\":\"BasicTickFormatter\"},\"plot\":{\"id\":\"95b6f551-f3eb-459e-8968-84b7853ee4c6\",\"subtype\":\"Figure\",\"type\":\"Plot\"},\"ticker\":{\"id\":\"b47623dd-5d0c-4a92-878d-00bdb1469b82\",\"type\":\"BasicTicker\"}},\"id\":\"515980c0-9087-4758-aac7-7747272cc18d\",\"type\":\"LinearAxis\"},{\"attributes\":{},\"id\":\"26c4a9df-1c52-444a-bf85-1ddba25d4fa2\",\"type\":\"LinearScale\"},{\"attributes\":{\"plot\":null,\"text\":\"histogram of difference of means 95% HDI\"},\"id\":\"4435302f-314f-439c-b024-8ebf772c2822\",\"type\":\"Title\"},{\"attributes\":{},\"id\":\"b3d984f3-8db8-47ff-a8c3-c258496c0fbc\",\"type\":\"BasicTickFormatter\"},{\"attributes\":{\"plot\":{\"id\":\"95b6f551-f3eb-459e-8968-84b7853ee4c6\",\"subtype\":\"Figure\",\"type\":\"Plot\"},\"ticker\":{\"id\":\"bb0267e0-a7f7-4afa-8ec1-682b2bf4f29d\",\"type\":\"BasicTicker\"}},\"id\":\"679ac90c-43a5-4729-ad1e-873ed7534c08\",\"type\":\"Grid\"},{\"attributes\":{\"plot\":{\"id\":\"95b6f551-f3eb-459e-8968-84b7853ee4c6\",\"subtype\":\"Figure\",\"type\":\"Plot\"}},\"id\":\"3c1a91da-bd3e-406c-9bc4-4a6441a0be72\",\"type\":\"ResetTool\"},{\"attributes\":{\"plot\":{\"id\":\"95b6f551-f3eb-459e-8968-84b7853ee4c6\",\"subtype\":\"Figure\",\"type\":\"Plot\"}},\"id\":\"6d8461d2-06c9-48ac-9d63-cc37d5cc813f\",\"type\":\"HelpTool\"},{\"attributes\":{\"callback\":null},\"id\":\"67d233f5-e518-42e0-9e4f-3d60dae54ed4\",\"type\":\"DataRange1d\"},{\"attributes\":{\"data_source\":{\"id\":\"be729142-a889-43e2-8503-300cc8114581\",\"type\":\"ColumnDataSource\"},\"glyph\":{\"id\":\"69789f17-4bec-441b-9c34-1d2fec63cd05\",\"type\":\"Quad\"},\"hover_glyph\":null,\"muted_glyph\":null,\"nonselection_glyph\":{\"id\":\"8f7dafb7-e02d-4fa1-83cd-fbe74d05845c\",\"type\":\"Quad\"},\"selection_glyph\":null},\"id\":\"3327cc92-5e72-4835-a9e2-cefb1f11fc14\",\"type\":\"GlyphRenderer\"},{\"attributes\":{},\"id\":\"b4e5e7ee-cd0b-4942-bf89-b6d371eda941\",\"type\":\"ToolEvents\"},{\"attributes\":{},\"id\":\"05fabb50-b22c-4bde-b4d5-23aee773d6d8\",\"type\":\"LinearScale\"},{\"attributes\":{\"bottom\":{\"value\":0},\"fill_color\":{\"value\":\"#7cb5ec\"},\"left\":{\"field\":\"left\"},\"line_color\":{\"value\":\"#033649\"},\"right\":{\"field\":\"right\"},\"top\":{\"field\":\"top\"}},\"id\":\"69789f17-4bec-441b-9c34-1d2fec63cd05\",\"type\":\"Quad\"},{\"attributes\":{},\"id\":\"337212b2-1b3d-4429-8c68-ee0fafebc2ed\",\"type\":\"BasicTickFormatter\"}],\"root_ids\":[\"95b6f551-f3eb-459e-8968-84b7853ee4c6\"]},\"title\":\"Bokeh Application\",\"version\":\"0.12.6\"}};\n",
       "            var render_items = [{\"docid\":\"b43a7cf3-8a46-45f3-9b5e-cdad961cd8b7\",\"elementid\":\"123df3eb-2154-44e4-9d4e-f390eeb21ee2\",\"modelid\":\"95b6f551-f3eb-459e-8968-84b7853ee4c6\",\"notebook_comms_target\":\"18e9b076-f4f4-4db6-b03e-d8423efe7efb\"}];\n",
       "            \n",
       "            Bokeh.embed.embed_items(docs_json, render_items);\n",
       "          };\n",
       "          if (document.readyState != \"loading\") fn();\n",
       "          else document.addEventListener(\"DOMContentLoaded\", fn);\n",
       "        })();\n",
       "      },\n",
       "      function(Bokeh) {\n",
       "      }\n",
       "    ];\n",
       "  \n",
       "    function run_inline_js() {\n",
       "      \n",
       "      if ((window.Bokeh !== undefined) || (force === true)) {\n",
       "        for (var i = 0; i < inline_js.length; i++) {\n",
       "          inline_js[i](window.Bokeh);\n",
       "        }if (force === true) {\n",
       "          display_loaded();\n",
       "        }} else if (Date.now() < window._bokeh_timeout) {\n",
       "        setTimeout(run_inline_js, 100);\n",
       "      } else if (!window._bokeh_failed_load) {\n",
       "        console.log(\"Bokeh: BokehJS failed to load within specified timeout.\");\n",
       "        window._bokeh_failed_load = true;\n",
       "      } else if (force !== true) {\n",
       "        var cell = $(document.getElementById(\"123df3eb-2154-44e4-9d4e-f390eeb21ee2\")).parents('.cell').data().cell;\n",
       "        cell.output_area.append_execute_result(NB_LOAD_WARNING)\n",
       "      }\n",
       "  \n",
       "    }\n",
       "  \n",
       "    if (window._bokeh_is_loading === 0) {\n",
       "      console.log(\"Bokeh: BokehJS loaded, going straight to plotting\");\n",
       "      run_inline_js();\n",
       "    } else {\n",
       "      load_libs(js_urls, function() {\n",
       "        console.log(\"Bokeh: BokehJS plotting callback run at\", now());\n",
       "        run_inline_js();\n",
       "      });\n",
       "    }\n",
       "  }(this));\n",
       "</script>"
      ]
     },
     "metadata": {},
     "output_type": "display_data"
    },
    {
     "data": {
      "text/html": [
       "<p><code>&lt;Bokeh Notebook handle for <strong>In[29]</strong>&gt;</code></p>"
      ],
      "text/plain": [
       "<bokeh.io._CommsHandle at 0xe2c8d68>"
      ]
     },
     "execution_count": 29,
     "metadata": {},
     "output_type": "execute_result"
    }
   ],
   "source": [
    "def update_plot(v=.2):\n",
    "    difference= differenceOfmeans(humanMean=4.5, variance=v, sampleSize =50)\n",
    "    diffSource.data=dict(difference=difference)\n",
    "    p1=make_plot(diffSource)\n",
    "    push_notebook()\n",
    "    \n",
    "show(p1, notebook_handle=True)"
   ]
  },
  {
   "cell_type": "code",
   "execution_count": 30,
   "metadata": {},
   "outputs": [
    {
     "data": {
      "application/vnd.jupyter.widget-view+json": {
       "model_id": "824614d436a64ef0bd0c661b8c2f5a3c"
      }
     },
     "metadata": {},
     "output_type": "display_data"
    },
    {
     "data": {
      "text/plain": [
       "<function __main__.update_plot>"
      ]
     },
     "execution_count": 30,
     "metadata": {},
     "output_type": "execute_result"
    }
   ],
   "source": [
    "from ipywidgets import interact\n",
    "interact(update_plot, v=(0,2,.05))\n",
    "    \n",
    "#inputs = widgetbox( varianceSlider, button)\n",
    "#show(row(p1,inputs))\n"
   ]
  },
  {
   "cell_type": "code",
   "execution_count": null,
   "metadata": {
    "collapsed": true
   },
   "outputs": [],
   "source": []
  },
  {
   "cell_type": "code",
   "execution_count": null,
   "metadata": {
    "collapsed": true
   },
   "outputs": [],
   "source": []
  }
 ],
 "metadata": {
  "kernelspec": {
   "display_name": "Python 2",
   "language": "python",
   "name": "python2"
  },
  "language_info": {
   "codemirror_mode": {
    "name": "ipython",
    "version": 2
   },
   "file_extension": ".py",
   "mimetype": "text/x-python",
   "name": "python",
   "nbconvert_exporter": "python",
   "pygments_lexer": "ipython2",
   "version": "2.7.13"
  }
 },
 "nbformat": 4,
 "nbformat_minor": 2
}
